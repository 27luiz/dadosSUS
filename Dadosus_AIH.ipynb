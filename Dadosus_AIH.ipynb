{
  "nbformat": 4,
  "nbformat_minor": 0,
  "metadata": {
    "colab": {
      "provenance": [],
      "authorship_tag": "ABX9TyMBJLvjvnS447t/uD9Ki93g",
      "include_colab_link": true
    },
    "kernelspec": {
      "name": "python3",
      "display_name": "Python 3"
    },
    "language_info": {
      "name": "python"
    }
  },
  "cells": [
    {
      "cell_type": "markdown",
      "metadata": {
        "id": "view-in-github",
        "colab_type": "text"
      },
      "source": [
        "<a href=\"https://colab.research.google.com/github/27luiz/dadosSUS/blob/main/Dadosus_AIH.ipynb\" target=\"_parent\"><img src=\"https://colab.research.google.com/assets/colab-badge.svg\" alt=\"Open In Colab\"/></a>"
      ]
    },
    {
      "cell_type": "code",
      "source": [
        "from google.colab import auth\n",
        "auth.authenticate_user()\n"
      ],
      "metadata": {
        "id": "5kNkWexVN-Wu"
      },
      "execution_count": 5,
      "outputs": []
    },
    {
      "cell_type": "code",
      "source": [
        "from ftplib import FTP\n",
        "from google.cloud import storage\n",
        "\n",
        "def download_ftp_file(ftp_url, local_filename):\n",
        "    ftp_server = ftp_url.split('/')[2]\n",
        "    ftp_path = \"/\".join(ftp_url.split('/')[3:])\n",
        "\n",
        "    with FTP(ftp_server) as ftp:\n",
        "        ftp.login()  # Você pode precisar fornecer credenciais de login aqui\n",
        "        with open(local_filename, 'wb') as f:\n",
        "            ftp.retrbinary(f'RETR {ftp_path}', f.write)\n",
        "\n",
        "def upload_to_gcs(local_filename, gcs_bucket_name, gcs_blob_name):\n",
        "    storage_client = storage.Client()\n",
        "    bucket = storage_client.bucket(gcs_bucket_name)\n",
        "    blob = bucket.blob(gcs_blob_name)\n",
        "    blob.upload_from_filename(local_filename)\n",
        "\n",
        "# URL base do arquivo FTP\n",
        "ftp_base_url = \"ftp://ftp.datasus.gov.br/dissemin/publicos/SIHSUS/200801_/Dados/RD{uf}{ano}{mes}.dbc\"\n",
        "\n",
        "# Localização no Google Cloud Storage para onde o arquivo será carregado\n",
        "gcs_bucket_name = \"tabsus\"\n",
        "\n",
        "# Listas de Ufs, Anos e Meses\n",
        "ufs = ['BA']\n",
        "anos = ['23']\n",
        "meses = ['01', '02', '03']\n",
        "\n",
        "# Iterar sobre todas as combinações de Ufs, Anos e Meses\n",
        "for uf in ufs:\n",
        "    for ano in anos:\n",
        "        for mes in meses:\n",
        "            # Construir a URL do FTP substituindo as partes fixas pelas variáveis\n",
        "            ftp_url = ftp_base_url.format(uf=uf, ano=ano, mes=mes)\n",
        "\n",
        "            # Construir o nome do arquivo local substituindo as partes fixas pelas variáveis\n",
        "            local_filename = f\"/tmp/RD{uf}{ano}{mes}.dbc\"\n",
        "\n",
        "            # Construir o nome do arquivo no Google Cloud Storage substituindo as partes fixas pelas variáveis\n",
        "            gcs_blob_name = f\"bruto/RD{uf}{ano}{mes}.dbc\"\n",
        "\n",
        "            # Baixe o arquivo FTP\n",
        "            download_ftp_file(ftp_url, local_filename)\n",
        "\n",
        "            # Carregue o arquivo baixado para o Google Cloud Storage\n",
        "            upload_to_gcs(local_filename, gcs_bucket_name, gcs_blob_name)\n",
        "\n",
        "            print(f\"Arquivo enviado com sucesso para o Google Cloud Storage: {gcs_blob_name}\")\n",
        "\n",
        "print(\"Todos os arquivos foram enviados com sucesso.\")"
      ],
      "metadata": {
        "colab": {
          "base_uri": "https://localhost:8080/"
        },
        "id": "0ttuS7nuQyf2",
        "outputId": "e1886d36-33aa-46fe-ca03-cc6702dfd9d5"
      },
      "execution_count": 20,
      "outputs": [
        {
          "output_type": "stream",
          "name": "stdout",
          "text": [
            "Arquivo enviado com sucesso para o Google Cloud Storage: bruto/RDBA2301.dbc\n",
            "Arquivo enviado com sucesso para o Google Cloud Storage: bruto/RDBA2302.dbc\n",
            "Arquivo enviado com sucesso para o Google Cloud Storage: bruto/RDBA2303.dbc\n",
            "Todos os arquivos foram enviados com sucesso.\n"
          ]
        }
      ]
    },
    {
      "cell_type": "code",
      "source": [
        "from ftplib import FTP\n",
        "from google.cloud import storage\n",
        "import threading\n",
        "\n",
        "def download_and_upload(uf, ano, mes, gcs_bucket_name):\n",
        "    ftp_url = ftp_base_url.format(uf=uf, ano=ano, mes=mes)\n",
        "    local_filename = f\"RD{uf}{ano}{mes}.dbc\"\n",
        "    gcs_blob_name = f\"bruto/RD{uf}{ano}{mes}.dbc\"\n",
        "\n",
        "    try:\n",
        "        # Download do arquivo FTP\n",
        "        download_ftp_file(ftp_url, local_filename)\n",
        "\n",
        "        # Upload do arquivo para o Google Cloud Storage\n",
        "        upload_to_gcs(local_filename, gcs_bucket_name, gcs_blob_name)\n",
        "    except Exception as e:\n",
        "        print(f\"Erro ao processar UF={uf}, Ano={ano}, Mês={mes}: {e}\")\n",
        "\n",
        "def download_ftp_file(ftp_url, local_filename):\n",
        "    ftp_server = ftp_url.split('/')[2]\n",
        "    ftp_path = \"/\".join(ftp_url.split('/')[3:])\n",
        "\n",
        "    with FTP(ftp_server) as ftp:\n",
        "        ftp.login()\n",
        "        with open(local_filename, 'wb') as f:\n",
        "            ftp.retrbinary(f'RETR {ftp_path}', f.write)\n",
        "\n",
        "def upload_to_gcs(local_filename, gcs_bucket_name, gcs_blob_name):\n",
        "    storage_client = storage.Client()\n",
        "    bucket = storage_client.bucket(gcs_bucket_name)\n",
        "    blob = bucket.blob(gcs_blob_name)\n",
        "    blob.upload_from_filename(local_filename)\n",
        "    print(f\"Arquivo enviado com sucesso para o Google Cloud Storage: {gcs_blob_name}\")\n",
        "\n",
        "# URL base do arquivo FTP\n",
        "ftp_base_url = \"ftp://ftp.datasus.gov.br/dissemin/publicos/SIHSUS/200801_/Dados/RD{uf}{ano}{mes}.dbc\"\n",
        "\n",
        "# Localização no Google Cloud Storage para onde o arquivo será carregado\n",
        "gcs_bucket_name = \"tabsus\"\n",
        "\n",
        "# Listas de Ufs, Anos e Meses\n",
        "ufs = ['Pi']\n",
        "anos = ['23']\n",
        "meses = ['01', '02', '03']\n",
        "\n",
        "# Lista para armazenar as threads\n",
        "threads = []\n",
        "\n",
        "# Função para criar e iniciar threads\n",
        "def create_and_start_thread(uf, ano, mes):\n",
        "    thread = threading.Thread(target=download_and_upload, args=(uf, ano, mes, gcs_bucket_name))\n",
        "    thread.start()\n",
        "    threads.append(thread)\n",
        "\n",
        "# Criar e iniciar threads para cada combinação de UF, ano e mês\n",
        "for uf in ufs:\n",
        "    for ano in anos:\n",
        "        for mes in meses:\n",
        "            create_and_start_thread(uf, ano, mes)\n",
        "\n",
        "# Aguardar todas as threads terminarem\n",
        "for thread in threads:\n",
        "    thread.join()\n",
        "\n",
        "print(\"Todos os arquivos foram enviados com sucesso.\")"
      ],
      "metadata": {
        "colab": {
          "base_uri": "https://localhost:8080/"
        },
        "id": "iSgLvZKgXYpf",
        "outputId": "d46d2673-e7a6-445c-ec01-96612d31770b"
      },
      "execution_count": 27,
      "outputs": [
        {
          "output_type": "stream",
          "name": "stdout",
          "text": [
            "Arquivo enviado com sucesso para o Google Cloud Storage: bruto/RDPi2301.dbc\n",
            "Arquivo enviado com sucesso para o Google Cloud Storage: bruto/RDPi2303.dbc\n",
            "Arquivo enviado com sucesso para o Google Cloud Storage: bruto/RDPi2302.dbc\n",
            "Todos os arquivos foram enviados com sucesso.\n"
          ]
        }
      ]
    },
    {
      "cell_type": "code",
      "source": [
        "from ftplib import FTP\n",
        "from google.cloud import storage\n",
        "import threading\n",
        "from datetime import datetime, timedelta\n",
        "\n",
        "def daterange(start_date, end_date):\n",
        "    for n in range(int((end_date - start_date).days) + 1):\n",
        "        yield start_date + timedelta(n)\n",
        "\n",
        "def download_and_upload(date, gcs_bucket_name):\n",
        "    ano = date.strftime(\"%y\")\n",
        "    mes = date.strftime(\"%m\")\n",
        "    uf = 'RJ'  # Aqui você pode definir a UF desejada\n",
        "\n",
        "    ftp_url = ftp_base_url.format(uf=uf, ano=ano, mes=mes)\n",
        "    local_filename = f\"RD{uf}{ano}{mes}.dbc\"\n",
        "    gcs_blob_name = f\"bruto/RD{uf}{ano}{mes}.dbc\"\n",
        "\n",
        "    try:\n",
        "        # Download do arquivo FTP\n",
        "        download_ftp_file(ftp_url, local_filename)\n",
        "\n",
        "        # Upload do arquivo para o Google Cloud Storage\n",
        "        upload_to_gcs(local_filename, gcs_bucket_name, gcs_blob_name)\n",
        "    except Exception as e:\n",
        "        print(f\"Erro ao processar UF={uf}, Ano={ano}, Mês={mes}: {e}\")\n",
        "\n",
        "def download_ftp_file(ftp_url, local_filename):\n",
        "    ftp_server = ftp_url.split('/')[2]\n",
        "    ftp_path = \"/\".join(ftp_url.split('/')[3:])\n",
        "\n",
        "    with FTP(ftp_server) as ftp:\n",
        "        ftp.login()\n",
        "        with open(local_filename, 'wb') as f:\n",
        "            ftp.retrbinary(f'RETR {ftp_path}', f.write)\n",
        "\n",
        "def upload_to_gcs(local_filename, gcs_bucket_name, gcs_blob_name):\n",
        "    storage_client = storage.Client()\n",
        "    bucket = storage_client.bucket(gcs_bucket_name)\n",
        "    blob = bucket.blob(gcs_blob_name)\n",
        "    blob.upload_from_filename(local_filename)\n",
        "    print(f\"Arquivo enviado com sucesso para o Google Cloud Storage: {gcs_blob_name}\")\n",
        "\n",
        "# URL base do arquivo FTP\n",
        "ftp_base_url = \"ftp://ftp.datasus.gov.br/dissemin/publicos/SIHSUS/200801_/Dados/RD{uf}{ano}{mes}.dbc\"\n",
        "\n",
        "# Localização no Google Cloud Storage para onde o arquivo será carregado\n",
        "gcs_bucket_name = \"tabsus\"\n",
        "\n",
        "# Intervalo de datas\n",
        "start_date = datetime(2024, 1, 1)\n",
        "end_date = datetime(2024, 1, 1)\n",
        "\n",
        "# Lista para armazenar as threads\n",
        "threads = []\n",
        "\n",
        "# Criar e iniciar threads para cada data no intervalo\n",
        "for single_date in daterange(start_date, end_date):\n",
        "    thread = threading.Thread(target=download_and_upload, args=(single_date, gcs_bucket_name))\n",
        "    thread.start()\n",
        "    threads.append(thread)\n",
        "\n",
        "# Aguardar todas as threads terminarem\n",
        "for thread in threads:\n",
        "    thread.join()\n",
        "\n",
        "print(\"Todos os arquivos foram enviados com sucesso.\")\n"
      ],
      "metadata": {
        "colab": {
          "base_uri": "https://localhost:8080/"
        },
        "id": "F_BbzzPJfXza",
        "outputId": "5e080c88-993d-40c1-f735-5a60a1091f78"
      },
      "execution_count": 28,
      "outputs": [
        {
          "output_type": "stream",
          "name": "stdout",
          "text": [
            "Arquivo enviado com sucesso para o Google Cloud Storage: bruto/RDRJ2401.dbc\n",
            "Todos os arquivos foram enviados com sucesso.\n"
          ]
        }
      ]
    },
    {
      "cell_type": "code",
      "source": [
        "pip install dbfread"
      ],
      "metadata": {
        "colab": {
          "base_uri": "https://localhost:8080/"
        },
        "id": "_veX9IQimBbD",
        "outputId": "b4013ef7-a8b7-4327-f606-0343572b4be2"
      },
      "execution_count": 30,
      "outputs": [
        {
          "output_type": "stream",
          "name": "stdout",
          "text": [
            "Collecting dbfread\n",
            "  Downloading dbfread-2.0.7-py2.py3-none-any.whl (20 kB)\n",
            "Installing collected packages: dbfread\n",
            "Successfully installed dbfread-2.0.7\n"
          ]
        }
      ]
    },
    {
      "cell_type": "code",
      "source": [
        "import os\n",
        "from google.cloud import storage\n",
        "from dbfread import DBF\n",
        "\n",
        "def convert_and_upload(source_blob_name, destination_blob_name):\n",
        "    # Download do arquivo do Google Cloud Storage\n",
        "    source_blob = storage_client.bucket(gcs_bucket_name).blob(source_blob_name)\n",
        "    source_filename = \"/tmp/input.dbf\"  # Caminho local para salvar o arquivo temporariamente\n",
        "    source_blob.download_to_filename(source_filename)\n",
        "\n",
        "    # Converter o arquivo DBF para CSV\n",
        "    output_filename = \"/tmp/output.csv\"  # Caminho local para salvar o arquivo convertido\n",
        "    with open(output_filename, 'w') as f:\n",
        "        for record in DBF(source_filename):\n",
        "            f.write(','.join(map(str, record.values())))\n",
        "            f.write('\\n')\n",
        "\n",
        "    # Upload do arquivo convertido para o Google Cloud Storage\n",
        "    destination_blob = storage_client.bucket(gcs_bucket_name).blob(destination_blob_name)\n",
        "    destination_blob.upload_from_filename(output_filename)\n",
        "\n",
        "    print(f\"Arquivo convertido e enviado com sucesso para: gs://{gcs_bucket_name}/{destination_blob_name}\")\n",
        "\n",
        "# Inicializar o cliente do Google Cloud Storage\n",
        "storage_client = storage.Client()\n",
        "\n",
        "# Nome do bucket\n",
        "gcs_bucket_name = \"tabsus\"\n",
        "\n",
        "# Nome do arquivo de entrada e saída\n",
        "source_blob_name = \"bruto/RDBA2301.dbc\"\n",
        "destination_blob_name = \"tratado/RDBA2301.csv\"\n",
        "\n",
        "# Executar a conversão e upload\n",
        "convert_and_upload(source_blob_name, destination_blob_name)"
      ],
      "metadata": {
        "colab": {
          "base_uri": "https://localhost:8080/"
        },
        "id": "1h4SnPA8mVmQ",
        "outputId": "ae25c34d-54b7-45c7-f7ed-239f181675d4"
      },
      "execution_count": 31,
      "outputs": [
        {
          "output_type": "stream",
          "name": "stdout",
          "text": [
            "Arquivo convertido e enviado com sucesso para: gs://tabsus/tratado/RDBA2301.csv\n"
          ]
        }
      ]
    },
    {
      "cell_type": "code",
      "source": [
        "pip install pyspark"
      ],
      "metadata": {
        "colab": {
          "base_uri": "https://localhost:8080/"
        },
        "id": "Nz1o4zfxngh4",
        "outputId": "7ada867e-9a97-40a5-a293-72e571f614b3"
      },
      "execution_count": 36,
      "outputs": [
        {
          "output_type": "stream",
          "name": "stdout",
          "text": [
            "Collecting pyspark\n",
            "  Downloading pyspark-3.5.1.tar.gz (317.0 MB)\n",
            "\u001b[2K     \u001b[90m━━━━━━━━━━━━━━━━━━━━━━━━━━━━━━━━━━━━━━━━\u001b[0m \u001b[32m317.0/317.0 MB\u001b[0m \u001b[31m2.5 MB/s\u001b[0m eta \u001b[36m0:00:00\u001b[0m\n",
            "\u001b[?25h  Preparing metadata (setup.py) ... \u001b[?25l\u001b[?25hdone\n",
            "Requirement already satisfied: py4j==0.10.9.7 in /usr/local/lib/python3.10/dist-packages (from pyspark) (0.10.9.7)\n",
            "Building wheels for collected packages: pyspark\n",
            "  Building wheel for pyspark (setup.py) ... \u001b[?25l\u001b[?25hdone\n",
            "  Created wheel for pyspark: filename=pyspark-3.5.1-py2.py3-none-any.whl size=317488491 sha256=5dc590bdb9b97d3bf630b8d199d87010a280bef52cb86323c459c5ac4a4cff0f\n",
            "  Stored in directory: /root/.cache/pip/wheels/80/1d/60/2c256ed38dddce2fdd93be545214a63e02fbd8d74fb0b7f3a6\n",
            "Successfully built pyspark\n",
            "Installing collected packages: pyspark\n",
            "Successfully installed pyspark-3.5.1\n"
          ]
        }
      ]
    },
    {
      "cell_type": "code",
      "source": [
        "pip install dbc_reader"
      ],
      "metadata": {
        "colab": {
          "base_uri": "https://localhost:8080/"
        },
        "id": "kpYsAUG_paWj",
        "outputId": "0edf0502-5050-4068-de92-635534f98975"
      },
      "execution_count": 43,
      "outputs": [
        {
          "output_type": "stream",
          "name": "stdout",
          "text": [
            "Collecting dbc_reader\n",
            "  Downloading dbc_reader-0.1.2.tar.gz (16 kB)\n",
            "  Preparing metadata (setup.py) ... \u001b[?25l\u001b[?25hdone\n",
            "Collecting dbf-reader>=0.2.2 (from dbc_reader)\n",
            "  Downloading dbf_reader-0.2.2.tar.gz (7.7 kB)\n",
            "  Preparing metadata (setup.py) ... \u001b[?25l\u001b[?25hdone\n",
            "Building wheels for collected packages: dbc_reader, dbf-reader\n",
            "  Building wheel for dbc_reader (setup.py) ... \u001b[?25l\u001b[?25hdone\n",
            "  Created wheel for dbc_reader: filename=dbc_reader-0.1.2-py3-none-any.whl size=18497 sha256=26a96779ceb23d4941d5137b208c66a3a147a87b62fc2a79b0937e2d8a2429e8\n",
            "  Stored in directory: /root/.cache/pip/wheels/71/de/52/658cf7a77a062a6c35ce3eac5cd4f43502ddf7f60b5a5701b1\n",
            "  Building wheel for dbf-reader (setup.py) ... \u001b[?25l\u001b[?25hdone\n",
            "  Created wheel for dbf-reader: filename=dbf_reader-0.2.2-py3-none-any.whl size=7627 sha256=5bd31a5c413e2a366b790deb190a256fe1af54b66870064f1f7d522b2fc0210c\n",
            "  Stored in directory: /root/.cache/pip/wheels/ae/84/c4/e885b4d466946c4fd2473c1390a429ee4eec4cac53223413b8\n",
            "Successfully built dbc_reader dbf-reader\n",
            "Installing collected packages: dbf-reader, dbc_reader\n",
            "Successfully installed dbc_reader-0.1.2 dbf-reader-0.2.2\n"
          ]
        }
      ]
    },
    {
      "cell_type": "code",
      "source": [
        "from google.cloud import storage\n",
        "from dbc_reader import DbcReader\n",
        "\n",
        "# Inicializar o cliente do Google Cloud Storage\n",
        "storage_client = storage.Client()\n",
        "\n",
        "# Caminho do arquivo DBC no Google Cloud Storage\n",
        "gcs_bucket_name = \"tabsus\"\n",
        "blob_name = \"bruto/RDBA2301.dbc\"\n",
        "local_file_path = \"/tmp/RDBA2301.dbc\"\n",
        "\n",
        "# Baixar o arquivo DBC localmente\n",
        "bucket = storage_client.bucket(gcs_bucket_name)\n",
        "blob = bucket.blob(blob_name)\n",
        "blob.download_to_filename(local_file_path)\n",
        "\n",
        "# Ler o arquivo DBC localmente usando dbc_reader\n",
        "rows = [row for row in DbcReader(local_file_path)]\n",
        "\n",
        "# Agora você pode processar as linhas conforme necessário\n",
        "print(rows[0:10])\n",
        "\n"
      ],
      "metadata": {
        "colab": {
          "base_uri": "https://localhost:8080/"
        },
        "id": "kCuNIeLLpWkP",
        "outputId": "3c0382e5-c005-4518-a32e-87c4be8b476e"
      },
      "execution_count": 64,
      "outputs": [
        {
          "output_type": "stream",
          "name": "stdout",
          "text": [
            "[{'UF_ZI': '290000', 'ANO_CMPT': '2023', 'MES_CMPT': '01', 'ESPEC': '01', 'CGC_HOSP': '', 'N_AIH': '2923101182970', 'IDENT': '1', 'CEP': '46430000', 'MUNIC_RES': '291170', 'NASC': '19810201', 'SEXO': '1', 'UTI_MES_IN': 0, 'UTI_MES_AN': 0, 'UTI_MES_AL': 0, 'UTI_MES_TO': 0, 'MARCA_UTI': '00', 'UTI_INT_IN': 0, 'UTI_INT_AN': 0, 'UTI_INT_AL': 0, 'UTI_INT_TO': 0, 'DIAR_ACOM': 0, 'QT_DIARIAS': 2, 'PROC_SOLIC': '0407030034', 'PROC_REA': '0407030034', 'VAL_SH': 751.13, 'VAL_SP': 245.99, 'VAL_SADT': 0.0, 'VAL_RN': 0.0, 'VAL_ACOMP': 0.0, 'VAL_ORTP': 0.0, 'VAL_SANGUE': 0.0, 'VAL_SADTSR': 0.0, 'VAL_TRANSP': 0.0, 'VAL_OBSANG': 0.0, 'VAL_PED1AC': 0.0, 'VAL_TOT': 997.12, 'VAL_UTI': 0.0, 'US_TOT': 191.75, 'DT_INTER': '20230117', 'DT_SAIDA': '20230119', 'DIAG_PRINC': 'K800', 'DIAG_SECUN': '0000', 'COBRANCA': '12', 'NATUREZA': '00', 'NAT_JUR': '1244', 'GESTAO': '2', 'RUBRICA': 0, 'IND_VDRL': '0', 'MUNIC_MOV': '290520', 'COD_IDADE': '4', 'IDADE': 41, 'DIAS_PERM': 2, 'MORTE': 0, 'NACIONAL': '010', 'NUM_PROC': '', 'CAR_INT': '01', 'TOT_PT_SP': 0, 'CPF_AUT': '', 'HOMONIMO': '0', 'NUM_FILHOS': 0, 'INSTRU': '0', 'CID_NOTIF': '', 'CONTRACEP1': '00', 'CONTRACEP2': '00', 'GESTRISCO': '1', 'INSC_PN': '000000000000', 'SEQ_AIH5': '000', 'CBOR': '000000', 'CNAER': '000', 'VINCPREV': '0', 'GESTOR_COD': '00000', 'GESTOR_TP': '0', 'GESTOR_CPF': '000000000000000', 'GESTOR_DT': '', 'CNES': '7319770', 'CNPJ_MANT': '13811476000154', 'INFEHOSP': '', 'CID_ASSO': '0000', 'CID_MORTE': '0000', 'COMPLEX': '02', 'FINANC': '06', 'FAEC_TP': '', 'REGCT': '0000', 'RACA_COR': '01', 'ETNIA': '0000', 'SEQUENCIA': 56320, 'REMESSA': 'HE29000001N202301.DTS', 'AUD_JUST': '', 'SIS_JUST': '', 'VAL_SH_FED': 0.0, 'VAL_SP_FED': 0.0, 'VAL_SH_GES': 0.0, 'VAL_SP_GES': 0.0, 'VAL_UCICI': 0.0, 'MARCA_UCI': '00', 'DIAGSEC1': '', 'DIAGSEC2': '', 'DIAGSEC3': '', 'DIAGSEC4': '', 'DIAGSEC5': '', 'DIAGSEC6': '', 'DIAGSEC7': '', 'DIAGSEC8': '', 'DIAGSEC9': '', 'TPDISEC1': '0', 'TPDISEC2': '0', 'TPDISEC3': '0', 'TPDISEC4': '0', 'TPDISEC5': '0', 'TPDISEC6': '0', 'TPDISEC7': '0', 'TPDISEC8': '0', 'TPDISEC9': '0'}, {'UF_ZI': '290000', 'ANO_CMPT': '2023', 'MES_CMPT': '01', 'ESPEC': '01', 'CGC_HOSP': '', 'N_AIH': '2923101239212', 'IDENT': '1', 'CEP': '46400000', 'MUNIC_RES': '290520', 'NASC': '19470606', 'SEXO': '3', 'UTI_MES_IN': 0, 'UTI_MES_AN': 0, 'UTI_MES_AL': 0, 'UTI_MES_TO': 0, 'MARCA_UTI': '00', 'UTI_INT_IN': 0, 'UTI_INT_AN': 0, 'UTI_INT_AL': 0, 'UTI_INT_TO': 0, 'DIAR_ACOM': 0, 'QT_DIARIAS': 1, 'PROC_SOLIC': '0408020245', 'PROC_REA': '0408020245', 'VAL_SH': 51.34, 'VAL_SP': 55.9, 'VAL_SADT': 0.0, 'VAL_RN': 0.0, 'VAL_ACOMP': 0.0, 'VAL_ORTP': 0.0, 'VAL_SANGUE': 0.0, 'VAL_SADTSR': 0.0, 'VAL_TRANSP': 0.0, 'VAL_OBSANG': 0.0, 'VAL_PED1AC': 0.0, 'VAL_TOT': 107.24, 'VAL_UTI': 0.0, 'US_TOT': 20.62, 'DT_INTER': '20230128', 'DT_SAIDA': '20230129', 'DIAG_PRINC': 'S525', 'DIAG_SECUN': '0000', 'COBRANCA': '12', 'NATUREZA': '00', 'NAT_JUR': '1244', 'GESTAO': '2', 'RUBRICA': 0, 'IND_VDRL': '0', 'MUNIC_MOV': '290520', 'COD_IDADE': '4', 'IDADE': 75, 'DIAS_PERM': 1, 'MORTE': 0, 'NACIONAL': '010', 'NUM_PROC': '', 'CAR_INT': '01', 'TOT_PT_SP': 0, 'CPF_AUT': '', 'HOMONIMO': '0', 'NUM_FILHOS': 0, 'INSTRU': '0', 'CID_NOTIF': '', 'CONTRACEP1': '00', 'CONTRACEP2': '00', 'GESTRISCO': '1', 'INSC_PN': '000000000000', 'SEQ_AIH5': '000', 'CBOR': '000000', 'CNAER': '000', 'VINCPREV': '0', 'GESTOR_COD': '00000', 'GESTOR_TP': '0', 'GESTOR_CPF': '000000000000000', 'GESTOR_DT': '', 'CNES': '7319770', 'CNPJ_MANT': '13811476000154', 'INFEHOSP': '', 'CID_ASSO': '0000', 'CID_MORTE': '0000', 'COMPLEX': '02', 'FINANC': '06', 'FAEC_TP': '', 'REGCT': '0000', 'RACA_COR': '03', 'ETNIA': '0000', 'SEQUENCIA': 56426, 'REMESSA': 'HE29000001N202301.DTS', 'AUD_JUST': '', 'SIS_JUST': '', 'VAL_SH_FED': 0.0, 'VAL_SP_FED': 0.0, 'VAL_SH_GES': 0.0, 'VAL_SP_GES': 0.0, 'VAL_UCICI': 0.0, 'MARCA_UCI': '00', 'DIAGSEC1': 'W199', 'DIAGSEC2': '', 'DIAGSEC3': '', 'DIAGSEC4': '', 'DIAGSEC5': '', 'DIAGSEC6': '', 'DIAGSEC7': '', 'DIAGSEC8': '', 'DIAGSEC9': '', 'TPDISEC1': '2', 'TPDISEC2': '0', 'TPDISEC3': '0', 'TPDISEC4': '0', 'TPDISEC5': '0', 'TPDISEC6': '0', 'TPDISEC7': '0', 'TPDISEC8': '0', 'TPDISEC9': '0'}, {'UF_ZI': '290000', 'ANO_CMPT': '2023', 'MES_CMPT': '01', 'ESPEC': '01', 'CGC_HOSP': '', 'N_AIH': '2923101239223', 'IDENT': '1', 'CEP': '47640000', 'MUNIC_RES': '292810', 'NASC': '19631218', 'SEXO': '1', 'UTI_MES_IN': 0, 'UTI_MES_AN': 0, 'UTI_MES_AL': 0, 'UTI_MES_TO': 0, 'MARCA_UTI': '00', 'UTI_INT_IN': 0, 'UTI_INT_AN': 0, 'UTI_INT_AL': 0, 'UTI_INT_TO': 0, 'DIAR_ACOM': 0, 'QT_DIARIAS': 1, 'PROC_SOLIC': '0407040102', 'PROC_REA': '0407040102', 'VAL_SH': 427.52, 'VAL_SP': 210.45, 'VAL_SADT': 0.0, 'VAL_RN': 0.0, 'VAL_ACOMP': 0.0, 'VAL_ORTP': 0.0, 'VAL_SANGUE': 0.0, 'VAL_SADTSR': 0.0, 'VAL_TRANSP': 0.0, 'VAL_OBSANG': 0.0, 'VAL_PED1AC': 0.0, 'VAL_TOT': 637.97, 'VAL_UTI': 0.0, 'US_TOT': 122.68, 'DT_INTER': '20230128', 'DT_SAIDA': '20230129', 'DIAG_PRINC': 'K409', 'DIAG_SECUN': '0000', 'COBRANCA': '12', 'NATUREZA': '00', 'NAT_JUR': '1244', 'GESTAO': '2', 'RUBRICA': 0, 'IND_VDRL': '0', 'MUNIC_MOV': '290520', 'COD_IDADE': '4', 'IDADE': 59, 'DIAS_PERM': 1, 'MORTE': 0, 'NACIONAL': '010', 'NUM_PROC': '', 'CAR_INT': '01', 'TOT_PT_SP': 0, 'CPF_AUT': '', 'HOMONIMO': '0', 'NUM_FILHOS': 0, 'INSTRU': '0', 'CID_NOTIF': '', 'CONTRACEP1': '00', 'CONTRACEP2': '00', 'GESTRISCO': '1', 'INSC_PN': '000000000000', 'SEQ_AIH5': '000', 'CBOR': '000000', 'CNAER': '000', 'VINCPREV': '0', 'GESTOR_COD': '00000', 'GESTOR_TP': '0', 'GESTOR_CPF': '000000000000000', 'GESTOR_DT': '', 'CNES': '7319770', 'CNPJ_MANT': '13811476000154', 'INFEHOSP': '', 'CID_ASSO': '0000', 'CID_MORTE': '0000', 'COMPLEX': '02', 'FINANC': '06', 'FAEC_TP': '', 'REGCT': '0000', 'RACA_COR': '03', 'ETNIA': '0000', 'SEQUENCIA': 56427, 'REMESSA': 'HE29000001N202301.DTS', 'AUD_JUST': '', 'SIS_JUST': '', 'VAL_SH_FED': 0.0, 'VAL_SP_FED': 0.0, 'VAL_SH_GES': 0.0, 'VAL_SP_GES': 0.0, 'VAL_UCICI': 0.0, 'MARCA_UCI': '00', 'DIAGSEC1': '', 'DIAGSEC2': '', 'DIAGSEC3': '', 'DIAGSEC4': '', 'DIAGSEC5': '', 'DIAGSEC6': '', 'DIAGSEC7': '', 'DIAGSEC8': '', 'DIAGSEC9': '', 'TPDISEC1': '0', 'TPDISEC2': '0', 'TPDISEC3': '0', 'TPDISEC4': '0', 'TPDISEC5': '0', 'TPDISEC6': '0', 'TPDISEC7': '0', 'TPDISEC8': '0', 'TPDISEC9': '0'}, {'UF_ZI': '290000', 'ANO_CMPT': '2023', 'MES_CMPT': '01', 'ESPEC': '01', 'CGC_HOSP': '', 'N_AIH': '2923101239234', 'IDENT': '1', 'CEP': '47640000', 'MUNIC_RES': '292810', 'NASC': '19600403', 'SEXO': '1', 'UTI_MES_IN': 0, 'UTI_MES_AN': 0, 'UTI_MES_AL': 0, 'UTI_MES_TO': 0, 'MARCA_UTI': '00', 'UTI_INT_IN': 0, 'UTI_INT_AN': 0, 'UTI_INT_AL': 0, 'UTI_INT_TO': 0, 'DIAR_ACOM': 0, 'QT_DIARIAS': 1, 'PROC_SOLIC': '0407040102', 'PROC_REA': '0407040102', 'VAL_SH': 427.52, 'VAL_SP': 210.45, 'VAL_SADT': 0.0, 'VAL_RN': 0.0, 'VAL_ACOMP': 0.0, 'VAL_ORTP': 0.0, 'VAL_SANGUE': 0.0, 'VAL_SADTSR': 0.0, 'VAL_TRANSP': 0.0, 'VAL_OBSANG': 0.0, 'VAL_PED1AC': 0.0, 'VAL_TOT': 637.97, 'VAL_UTI': 0.0, 'US_TOT': 122.68, 'DT_INTER': '20230128', 'DT_SAIDA': '20230129', 'DIAG_PRINC': 'K409', 'DIAG_SECUN': '0000', 'COBRANCA': '12', 'NATUREZA': '00', 'NAT_JUR': '1244', 'GESTAO': '2', 'RUBRICA': 0, 'IND_VDRL': '0', 'MUNIC_MOV': '290520', 'COD_IDADE': '4', 'IDADE': 62, 'DIAS_PERM': 1, 'MORTE': 0, 'NACIONAL': '010', 'NUM_PROC': '', 'CAR_INT': '01', 'TOT_PT_SP': 0, 'CPF_AUT': '', 'HOMONIMO': '0', 'NUM_FILHOS': 0, 'INSTRU': '0', 'CID_NOTIF': '', 'CONTRACEP1': '00', 'CONTRACEP2': '00', 'GESTRISCO': '1', 'INSC_PN': '000000000000', 'SEQ_AIH5': '000', 'CBOR': '000000', 'CNAER': '000', 'VINCPREV': '0', 'GESTOR_COD': '00000', 'GESTOR_TP': '0', 'GESTOR_CPF': '000000000000000', 'GESTOR_DT': '', 'CNES': '7319770', 'CNPJ_MANT': '13811476000154', 'INFEHOSP': '', 'CID_ASSO': '0000', 'CID_MORTE': '0000', 'COMPLEX': '02', 'FINANC': '06', 'FAEC_TP': '', 'REGCT': '0000', 'RACA_COR': '03', 'ETNIA': '0000', 'SEQUENCIA': 56428, 'REMESSA': 'HE29000001N202301.DTS', 'AUD_JUST': '', 'SIS_JUST': '', 'VAL_SH_FED': 0.0, 'VAL_SP_FED': 0.0, 'VAL_SH_GES': 0.0, 'VAL_SP_GES': 0.0, 'VAL_UCICI': 0.0, 'MARCA_UCI': '00', 'DIAGSEC1': '', 'DIAGSEC2': '', 'DIAGSEC3': '', 'DIAGSEC4': '', 'DIAGSEC5': '', 'DIAGSEC6': '', 'DIAGSEC7': '', 'DIAGSEC8': '', 'DIAGSEC9': '', 'TPDISEC1': '0', 'TPDISEC2': '0', 'TPDISEC3': '0', 'TPDISEC4': '0', 'TPDISEC5': '0', 'TPDISEC6': '0', 'TPDISEC7': '0', 'TPDISEC8': '0', 'TPDISEC9': '0'}, {'UF_ZI': '290000', 'ANO_CMPT': '2023', 'MES_CMPT': '01', 'ESPEC': '01', 'CGC_HOSP': '', 'N_AIH': '2923101239245', 'IDENT': '1', 'CEP': '47640000', 'MUNIC_RES': '292810', 'NASC': '19650615', 'SEXO': '1', 'UTI_MES_IN': 0, 'UTI_MES_AN': 0, 'UTI_MES_AL': 0, 'UTI_MES_TO': 0, 'MARCA_UTI': '00', 'UTI_INT_IN': 0, 'UTI_INT_AN': 0, 'UTI_INT_AL': 0, 'UTI_INT_TO': 0, 'DIAR_ACOM': 0, 'QT_DIARIAS': 1, 'PROC_SOLIC': '0407030034', 'PROC_REA': '0407030034', 'VAL_SH': 746.46, 'VAL_SP': 245.99, 'VAL_SADT': 0.0, 'VAL_RN': 0.0, 'VAL_ACOMP': 0.0, 'VAL_ORTP': 0.0, 'VAL_SANGUE': 0.0, 'VAL_SADTSR': 0.0, 'VAL_TRANSP': 0.0, 'VAL_OBSANG': 0.0, 'VAL_PED1AC': 0.0, 'VAL_TOT': 992.45, 'VAL_UTI': 0.0, 'US_TOT': 190.85, 'DT_INTER': '20230128', 'DT_SAIDA': '20230129', 'DIAG_PRINC': 'K808', 'DIAG_SECUN': '0000', 'COBRANCA': '12', 'NATUREZA': '00', 'NAT_JUR': '1244', 'GESTAO': '2', 'RUBRICA': 0, 'IND_VDRL': '0', 'MUNIC_MOV': '290520', 'COD_IDADE': '4', 'IDADE': 57, 'DIAS_PERM': 1, 'MORTE': 0, 'NACIONAL': '010', 'NUM_PROC': '', 'CAR_INT': '01', 'TOT_PT_SP': 0, 'CPF_AUT': '', 'HOMONIMO': '0', 'NUM_FILHOS': 0, 'INSTRU': '0', 'CID_NOTIF': '', 'CONTRACEP1': '00', 'CONTRACEP2': '00', 'GESTRISCO': '1', 'INSC_PN': '000000000000', 'SEQ_AIH5': '000', 'CBOR': '000000', 'CNAER': '000', 'VINCPREV': '0', 'GESTOR_COD': '00000', 'GESTOR_TP': '0', 'GESTOR_CPF': '000000000000000', 'GESTOR_DT': '', 'CNES': '7319770', 'CNPJ_MANT': '13811476000154', 'INFEHOSP': '', 'CID_ASSO': '0000', 'CID_MORTE': '0000', 'COMPLEX': '02', 'FINANC': '06', 'FAEC_TP': '', 'REGCT': '0000', 'RACA_COR': '03', 'ETNIA': '0000', 'SEQUENCIA': 56429, 'REMESSA': 'HE29000001N202301.DTS', 'AUD_JUST': '', 'SIS_JUST': '', 'VAL_SH_FED': 0.0, 'VAL_SP_FED': 0.0, 'VAL_SH_GES': 0.0, 'VAL_SP_GES': 0.0, 'VAL_UCICI': 0.0, 'MARCA_UCI': '00', 'DIAGSEC1': '', 'DIAGSEC2': '', 'DIAGSEC3': '', 'DIAGSEC4': '', 'DIAGSEC5': '', 'DIAGSEC6': '', 'DIAGSEC7': '', 'DIAGSEC8': '', 'DIAGSEC9': '', 'TPDISEC1': '0', 'TPDISEC2': '0', 'TPDISEC3': '0', 'TPDISEC4': '0', 'TPDISEC5': '0', 'TPDISEC6': '0', 'TPDISEC7': '0', 'TPDISEC8': '0', 'TPDISEC9': '0'}, {'UF_ZI': '290000', 'ANO_CMPT': '2023', 'MES_CMPT': '01', 'ESPEC': '01', 'CGC_HOSP': '', 'N_AIH': '2923101239256', 'IDENT': '1', 'CEP': '71825300', 'MUNIC_RES': '530010', 'NASC': '19950320', 'SEXO': '3', 'UTI_MES_IN': 0, 'UTI_MES_AN': 0, 'UTI_MES_AL': 0, 'UTI_MES_TO': 0, 'MARCA_UTI': '00', 'UTI_INT_IN': 0, 'UTI_INT_AN': 0, 'UTI_INT_AL': 0, 'UTI_INT_TO': 0, 'DIAR_ACOM': 0, 'QT_DIARIAS': 1, 'PROC_SOLIC': '0407030034', 'PROC_REA': '0407030034', 'VAL_SH': 746.46, 'VAL_SP': 245.99, 'VAL_SADT': 0.0, 'VAL_RN': 0.0, 'VAL_ACOMP': 0.0, 'VAL_ORTP': 0.0, 'VAL_SANGUE': 0.0, 'VAL_SADTSR': 0.0, 'VAL_TRANSP': 0.0, 'VAL_OBSANG': 0.0, 'VAL_PED1AC': 0.0, 'VAL_TOT': 992.45, 'VAL_UTI': 0.0, 'US_TOT': 190.85, 'DT_INTER': '20230128', 'DT_SAIDA': '20230129', 'DIAG_PRINC': 'K808', 'DIAG_SECUN': '0000', 'COBRANCA': '12', 'NATUREZA': '00', 'NAT_JUR': '1244', 'GESTAO': '2', 'RUBRICA': 0, 'IND_VDRL': '0', 'MUNIC_MOV': '290520', 'COD_IDADE': '4', 'IDADE': 27, 'DIAS_PERM': 1, 'MORTE': 0, 'NACIONAL': '010', 'NUM_PROC': '', 'CAR_INT': '01', 'TOT_PT_SP': 0, 'CPF_AUT': '', 'HOMONIMO': '0', 'NUM_FILHOS': 0, 'INSTRU': '0', 'CID_NOTIF': '', 'CONTRACEP1': '00', 'CONTRACEP2': '00', 'GESTRISCO': '1', 'INSC_PN': '000000000000', 'SEQ_AIH5': '000', 'CBOR': '000000', 'CNAER': '000', 'VINCPREV': '0', 'GESTOR_COD': '00000', 'GESTOR_TP': '0', 'GESTOR_CPF': '000000000000000', 'GESTOR_DT': '', 'CNES': '7319770', 'CNPJ_MANT': '13811476000154', 'INFEHOSP': '', 'CID_ASSO': '0000', 'CID_MORTE': '0000', 'COMPLEX': '02', 'FINANC': '06', 'FAEC_TP': '', 'REGCT': '0000', 'RACA_COR': '03', 'ETNIA': '0000', 'SEQUENCIA': 56430, 'REMESSA': 'HE29000001N202301.DTS', 'AUD_JUST': '', 'SIS_JUST': '', 'VAL_SH_FED': 0.0, 'VAL_SP_FED': 0.0, 'VAL_SH_GES': 0.0, 'VAL_SP_GES': 0.0, 'VAL_UCICI': 0.0, 'MARCA_UCI': '00', 'DIAGSEC1': '', 'DIAGSEC2': '', 'DIAGSEC3': '', 'DIAGSEC4': '', 'DIAGSEC5': '', 'DIAGSEC6': '', 'DIAGSEC7': '', 'DIAGSEC8': '', 'DIAGSEC9': '', 'TPDISEC1': '0', 'TPDISEC2': '0', 'TPDISEC3': '0', 'TPDISEC4': '0', 'TPDISEC5': '0', 'TPDISEC6': '0', 'TPDISEC7': '0', 'TPDISEC8': '0', 'TPDISEC9': '0'}, {'UF_ZI': '290000', 'ANO_CMPT': '2023', 'MES_CMPT': '01', 'ESPEC': '01', 'CGC_HOSP': '', 'N_AIH': '2923101239267', 'IDENT': '1', 'CEP': '47640000', 'MUNIC_RES': '292810', 'NASC': '19910531', 'SEXO': '1', 'UTI_MES_IN': 0, 'UTI_MES_AN': 0, 'UTI_MES_AL': 0, 'UTI_MES_TO': 0, 'MARCA_UTI': '00', 'UTI_INT_IN': 0, 'UTI_INT_AN': 0, 'UTI_INT_AL': 0, 'UTI_INT_TO': 0, 'DIAR_ACOM': 0, 'QT_DIARIAS': 1, 'PROC_SOLIC': '0407040102', 'PROC_REA': '0407040102', 'VAL_SH': 427.52, 'VAL_SP': 210.45, 'VAL_SADT': 0.0, 'VAL_RN': 0.0, 'VAL_ACOMP': 0.0, 'VAL_ORTP': 0.0, 'VAL_SANGUE': 0.0, 'VAL_SADTSR': 0.0, 'VAL_TRANSP': 0.0, 'VAL_OBSANG': 0.0, 'VAL_PED1AC': 0.0, 'VAL_TOT': 637.97, 'VAL_UTI': 0.0, 'US_TOT': 122.68, 'DT_INTER': '20230126', 'DT_SAIDA': '20230127', 'DIAG_PRINC': 'K409', 'DIAG_SECUN': '0000', 'COBRANCA': '12', 'NATUREZA': '00', 'NAT_JUR': '1244', 'GESTAO': '2', 'RUBRICA': 0, 'IND_VDRL': '0', 'MUNIC_MOV': '290520', 'COD_IDADE': '4', 'IDADE': 31, 'DIAS_PERM': 1, 'MORTE': 0, 'NACIONAL': '010', 'NUM_PROC': '', 'CAR_INT': '01', 'TOT_PT_SP': 0, 'CPF_AUT': '', 'HOMONIMO': '0', 'NUM_FILHOS': 0, 'INSTRU': '0', 'CID_NOTIF': '', 'CONTRACEP1': '00', 'CONTRACEP2': '00', 'GESTRISCO': '1', 'INSC_PN': '000000000000', 'SEQ_AIH5': '000', 'CBOR': '000000', 'CNAER': '000', 'VINCPREV': '0', 'GESTOR_COD': '00000', 'GESTOR_TP': '0', 'GESTOR_CPF': '000000000000000', 'GESTOR_DT': '', 'CNES': '7319770', 'CNPJ_MANT': '13811476000154', 'INFEHOSP': '', 'CID_ASSO': '0000', 'CID_MORTE': '0000', 'COMPLEX': '02', 'FINANC': '06', 'FAEC_TP': '', 'REGCT': '0000', 'RACA_COR': '03', 'ETNIA': '0000', 'SEQUENCIA': 56431, 'REMESSA': 'HE29000001N202301.DTS', 'AUD_JUST': '', 'SIS_JUST': '', 'VAL_SH_FED': 0.0, 'VAL_SP_FED': 0.0, 'VAL_SH_GES': 0.0, 'VAL_SP_GES': 0.0, 'VAL_UCICI': 0.0, 'MARCA_UCI': '00', 'DIAGSEC1': '', 'DIAGSEC2': '', 'DIAGSEC3': '', 'DIAGSEC4': '', 'DIAGSEC5': '', 'DIAGSEC6': '', 'DIAGSEC7': '', 'DIAGSEC8': '', 'DIAGSEC9': '', 'TPDISEC1': '0', 'TPDISEC2': '0', 'TPDISEC3': '0', 'TPDISEC4': '0', 'TPDISEC5': '0', 'TPDISEC6': '0', 'TPDISEC7': '0', 'TPDISEC8': '0', 'TPDISEC9': '0'}, {'UF_ZI': '290000', 'ANO_CMPT': '2023', 'MES_CMPT': '01', 'ESPEC': '01', 'CGC_HOSP': '', 'N_AIH': '2923101239278', 'IDENT': '1', 'CEP': '46430000', 'MUNIC_RES': '291170', 'NASC': '19890228', 'SEXO': '1', 'UTI_MES_IN': 0, 'UTI_MES_AN': 0, 'UTI_MES_AL': 0, 'UTI_MES_TO': 0, 'MARCA_UTI': '00', 'UTI_INT_IN': 0, 'UTI_INT_AN': 0, 'UTI_INT_AL': 0, 'UTI_INT_TO': 0, 'DIAR_ACOM': 0, 'QT_DIARIAS': 1, 'PROC_SOLIC': '0407030034', 'PROC_REA': '0407030034', 'VAL_SH': 746.46, 'VAL_SP': 245.99, 'VAL_SADT': 0.0, 'VAL_RN': 0.0, 'VAL_ACOMP': 0.0, 'VAL_ORTP': 0.0, 'VAL_SANGUE': 0.0, 'VAL_SADTSR': 0.0, 'VAL_TRANSP': 0.0, 'VAL_OBSANG': 0.0, 'VAL_PED1AC': 0.0, 'VAL_TOT': 992.45, 'VAL_UTI': 0.0, 'US_TOT': 190.85, 'DT_INTER': '20230127', 'DT_SAIDA': '20230128', 'DIAG_PRINC': 'K818', 'DIAG_SECUN': '0000', 'COBRANCA': '12', 'NATUREZA': '00', 'NAT_JUR': '1244', 'GESTAO': '2', 'RUBRICA': 0, 'IND_VDRL': '0', 'MUNIC_MOV': '290520', 'COD_IDADE': '4', 'IDADE': 33, 'DIAS_PERM': 1, 'MORTE': 0, 'NACIONAL': '010', 'NUM_PROC': '', 'CAR_INT': '01', 'TOT_PT_SP': 0, 'CPF_AUT': '', 'HOMONIMO': '0', 'NUM_FILHOS': 0, 'INSTRU': '0', 'CID_NOTIF': '', 'CONTRACEP1': '00', 'CONTRACEP2': '00', 'GESTRISCO': '1', 'INSC_PN': '000000000000', 'SEQ_AIH5': '000', 'CBOR': '000000', 'CNAER': '000', 'VINCPREV': '0', 'GESTOR_COD': '00000', 'GESTOR_TP': '0', 'GESTOR_CPF': '000000000000000', 'GESTOR_DT': '', 'CNES': '7319770', 'CNPJ_MANT': '13811476000154', 'INFEHOSP': '', 'CID_ASSO': '0000', 'CID_MORTE': '0000', 'COMPLEX': '02', 'FINANC': '06', 'FAEC_TP': '', 'REGCT': '0000', 'RACA_COR': '03', 'ETNIA': '0000', 'SEQUENCIA': 56432, 'REMESSA': 'HE29000001N202301.DTS', 'AUD_JUST': '', 'SIS_JUST': '', 'VAL_SH_FED': 0.0, 'VAL_SP_FED': 0.0, 'VAL_SH_GES': 0.0, 'VAL_SP_GES': 0.0, 'VAL_UCICI': 0.0, 'MARCA_UCI': '00', 'DIAGSEC1': '', 'DIAGSEC2': '', 'DIAGSEC3': '', 'DIAGSEC4': '', 'DIAGSEC5': '', 'DIAGSEC6': '', 'DIAGSEC7': '', 'DIAGSEC8': '', 'DIAGSEC9': '', 'TPDISEC1': '0', 'TPDISEC2': '0', 'TPDISEC3': '0', 'TPDISEC4': '0', 'TPDISEC5': '0', 'TPDISEC6': '0', 'TPDISEC7': '0', 'TPDISEC8': '0', 'TPDISEC9': '0'}, {'UF_ZI': '290000', 'ANO_CMPT': '2023', 'MES_CMPT': '01', 'ESPEC': '03', 'CGC_HOSP': '', 'N_AIH': '2923101196477', 'IDENT': '1', 'CEP': '46400000', 'MUNIC_RES': '290520', 'NASC': '19760709', 'SEXO': '1', 'UTI_MES_IN': 0, 'UTI_MES_AN': 0, 'UTI_MES_AL': 0, 'UTI_MES_TO': 2, 'MARCA_UTI': '75', 'UTI_INT_IN': 0, 'UTI_INT_AN': 0, 'UTI_INT_AL': 0, 'UTI_INT_TO': 0, 'DIAR_ACOM': 0, 'QT_DIARIAS': 2, 'PROC_SOLIC': '0308020030', 'PROC_REA': '0308020030', 'VAL_SH': 1130.33, 'VAL_SP': 206.62, 'VAL_SADT': 0.0, 'VAL_RN': 0.0, 'VAL_ACOMP': 0.0, 'VAL_ORTP': 0.0, 'VAL_SANGUE': 0.0, 'VAL_SADTSR': 0.0, 'VAL_TRANSP': 0.0, 'VAL_OBSANG': 0.0, 'VAL_PED1AC': 0.0, 'VAL_TOT': 1336.95, 'VAL_UTI': 1200.0, 'US_TOT': 257.1, 'DT_INTER': '20230116', 'DT_SAIDA': '20230119', 'DIAG_PRINC': 'F100', 'DIAG_SECUN': '0000', 'COBRANCA': '12', 'NATUREZA': '00', 'NAT_JUR': '1244', 'GESTAO': '2', 'RUBRICA': 0, 'IND_VDRL': '0', 'MUNIC_MOV': '290520', 'COD_IDADE': '4', 'IDADE': 46, 'DIAS_PERM': 3, 'MORTE': 0, 'NACIONAL': '010', 'NUM_PROC': '', 'CAR_INT': '02', 'TOT_PT_SP': 0, 'CPF_AUT': '', 'HOMONIMO': '0', 'NUM_FILHOS': 0, 'INSTRU': '0', 'CID_NOTIF': '', 'CONTRACEP1': '00', 'CONTRACEP2': '00', 'GESTRISCO': '1', 'INSC_PN': '000000000000', 'SEQ_AIH5': '000', 'CBOR': '000000', 'CNAER': '000', 'VINCPREV': '0', 'GESTOR_COD': '00000', 'GESTOR_TP': '0', 'GESTOR_CPF': '000000000000000', 'GESTOR_DT': '', 'CNES': '7319770', 'CNPJ_MANT': '13811476000154', 'INFEHOSP': '', 'CID_ASSO': '0000', 'CID_MORTE': '0000', 'COMPLEX': '02', 'FINANC': '06', 'FAEC_TP': '', 'REGCT': '0000', 'RACA_COR': '03', 'ETNIA': '0000', 'SEQUENCIA': 56538, 'REMESSA': 'HE29000001N202301.DTS', 'AUD_JUST': '', 'SIS_JUST': '', 'VAL_SH_FED': 0.0, 'VAL_SP_FED': 0.0, 'VAL_SH_GES': 0.0, 'VAL_SP_GES': 0.0, 'VAL_UCICI': 0.0, 'MARCA_UCI': '00', 'DIAGSEC1': '', 'DIAGSEC2': '', 'DIAGSEC3': '', 'DIAGSEC4': '', 'DIAGSEC5': '', 'DIAGSEC6': '', 'DIAGSEC7': '', 'DIAGSEC8': '', 'DIAGSEC9': '', 'TPDISEC1': '0', 'TPDISEC2': '0', 'TPDISEC3': '0', 'TPDISEC4': '0', 'TPDISEC5': '0', 'TPDISEC6': '0', 'TPDISEC7': '0', 'TPDISEC8': '0', 'TPDISEC9': '0'}, {'UF_ZI': '290000', 'ANO_CMPT': '2023', 'MES_CMPT': '01', 'ESPEC': '03', 'CGC_HOSP': '', 'N_AIH': '2923101196499', 'IDENT': '1', 'CEP': '45290000', 'MUNIC_RES': '291230', 'NASC': '19531210', 'SEXO': '3', 'UTI_MES_IN': 0, 'UTI_MES_AN': 0, 'UTI_MES_AL': 0, 'UTI_MES_TO': 5, 'MARCA_UTI': '75', 'UTI_INT_IN': 0, 'UTI_INT_AN': 0, 'UTI_INT_AL': 0, 'UTI_INT_TO': 0, 'DIAR_ACOM': 0, 'QT_DIARIAS': 6, 'PROC_SOLIC': '0303030038', 'PROC_REA': '0303030038', 'VAL_SH': 3012.71, 'VAL_SP': 500.01, 'VAL_SADT': 0.0, 'VAL_RN': 0.0, 'VAL_ACOMP': 0.0, 'VAL_ORTP': 0.0, 'VAL_SANGUE': 0.0, 'VAL_SADTSR': 0.0, 'VAL_TRANSP': 0.0, 'VAL_OBSANG': 0.0, 'VAL_PED1AC': 0.0, 'VAL_TOT': 3512.72, 'VAL_UTI': 3000.0, 'US_TOT': 675.52, 'DT_INTER': '20230121', 'DT_SAIDA': '20230131', 'DIAG_PRINC': 'E102', 'DIAG_SECUN': '0000', 'COBRANCA': '51', 'NATUREZA': '00', 'NAT_JUR': '1244', 'GESTAO': '2', 'RUBRICA': 0, 'IND_VDRL': '0', 'MUNIC_MOV': '290520', 'COD_IDADE': '4', 'IDADE': 69, 'DIAS_PERM': 10, 'MORTE': 0, 'NACIONAL': '010', 'NUM_PROC': '', 'CAR_INT': '02', 'TOT_PT_SP': 0, 'CPF_AUT': '', 'HOMONIMO': '0', 'NUM_FILHOS': 0, 'INSTRU': '0', 'CID_NOTIF': '', 'CONTRACEP1': '00', 'CONTRACEP2': '00', 'GESTRISCO': '1', 'INSC_PN': '000000000000', 'SEQ_AIH5': '000', 'CBOR': '000000', 'CNAER': '000', 'VINCPREV': '0', 'GESTOR_COD': '00000', 'GESTOR_TP': '0', 'GESTOR_CPF': '000000000000000', 'GESTOR_DT': '', 'CNES': '7319770', 'CNPJ_MANT': '13811476000154', 'INFEHOSP': '', 'CID_ASSO': '0000', 'CID_MORTE': '0000', 'COMPLEX': '02', 'FINANC': '06', 'FAEC_TP': '', 'REGCT': '0000', 'RACA_COR': '03', 'ETNIA': '0000', 'SEQUENCIA': 56539, 'REMESSA': 'HE29000001N202301.DTS', 'AUD_JUST': '', 'SIS_JUST': '', 'VAL_SH_FED': 0.0, 'VAL_SP_FED': 0.0, 'VAL_SH_GES': 0.0, 'VAL_SP_GES': 0.0, 'VAL_UCICI': 0.0, 'MARCA_UCI': '00', 'DIAGSEC1': '', 'DIAGSEC2': '', 'DIAGSEC3': '', 'DIAGSEC4': '', 'DIAGSEC5': '', 'DIAGSEC6': '', 'DIAGSEC7': '', 'DIAGSEC8': '', 'DIAGSEC9': '', 'TPDISEC1': '0', 'TPDISEC2': '0', 'TPDISEC3': '0', 'TPDISEC4': '0', 'TPDISEC5': '0', 'TPDISEC6': '0', 'TPDISEC7': '0', 'TPDISEC8': '0', 'TPDISEC9': '0'}]\n"
          ]
        }
      ]
    },
    {
      "cell_type": "code",
      "source": [
        "import pyspark.sql.functions as F\n",
        "\n",
        "# Converter as linhas para um DataFrame Spark\n",
        "df = spark.createDataFrame(rows)\n",
        "\n",
        "# Exibir o DataFrame Spark\n",
        "df.show()"
      ],
      "metadata": {
        "colab": {
          "base_uri": "https://localhost:8080/"
        },
        "id": "b2V7lpZ7m1yL",
        "outputId": "1b7e0199-a16f-474b-da7a-40d9e9be5283"
      },
      "execution_count": 66,
      "outputs": [
        {
          "output_type": "stream",
          "name": "stdout",
          "text": [
            "+--------+--------------------+-------+------+--------+--------------+--------+---------+---------+-----+-------+--------------+--------+---------+-------+----------+----------+-------+--------+--------+--------+--------+--------+--------+--------+--------+--------+----------+----------+---------+---------+--------+--------+-----+-----+-------+------+------+----------+---------------+---------+---------+---------+--------+-----+-----+--------+--------+------------+------+---------+---------+--------+-----+---------+---------+--------+--------+--------+-------+----------+--------+-------------+----------+----------+----------+--------+-----+--------------------+-------+---------+--------+----+----------------+---------+--------+--------+--------+--------+--------+--------+--------+--------+--------+------+-------+----------+----------+----------+----------+----------+----------+----------+----------+---------+----------+--------+----------+------+--------+----------+----------+-------+----------+----------+-------+----------+----------+-------+----------+---------+-------+--------+\n",
            "|ANO_CMPT|            AUD_JUST|CAR_INT|  CBOR|     CEP|      CGC_HOSP|CID_ASSO|CID_MORTE|CID_NOTIF|CNAER|   CNES|     CNPJ_MANT|COBRANCA|COD_IDADE|COMPLEX|CONTRACEP1|CONTRACEP2|CPF_AUT|DIAGSEC1|DIAGSEC2|DIAGSEC3|DIAGSEC4|DIAGSEC5|DIAGSEC6|DIAGSEC7|DIAGSEC8|DIAGSEC9|DIAG_PRINC|DIAG_SECUN|DIAR_ACOM|DIAS_PERM|DT_INTER|DT_SAIDA|ESPEC|ETNIA|FAEC_TP|FINANC|GESTAO|GESTOR_COD|     GESTOR_CPF|GESTOR_DT|GESTOR_TP|GESTRISCO|HOMONIMO|IDADE|IDENT|IND_VDRL|INFEHOSP|     INSC_PN|INSTRU|MARCA_UCI|MARCA_UTI|MES_CMPT|MORTE|MUNIC_MOV|MUNIC_RES|NACIONAL|    NASC|NATUREZA|NAT_JUR|NUM_FILHOS|NUM_PROC|        N_AIH|  PROC_REA|PROC_SOLIC|QT_DIARIAS|RACA_COR|REGCT|             REMESSA|RUBRICA|SEQUENCIA|SEQ_AIH5|SEXO|        SIS_JUST|TOT_PT_SP|TPDISEC1|TPDISEC2|TPDISEC3|TPDISEC4|TPDISEC5|TPDISEC6|TPDISEC7|TPDISEC8|TPDISEC9| UF_ZI| US_TOT|UTI_INT_AL|UTI_INT_AN|UTI_INT_IN|UTI_INT_TO|UTI_MES_AL|UTI_MES_AN|UTI_MES_IN|UTI_MES_TO|VAL_ACOMP|VAL_OBSANG|VAL_ORTP|VAL_PED1AC|VAL_RN|VAL_SADT|VAL_SADTSR|VAL_SANGUE| VAL_SH|VAL_SH_FED|VAL_SH_GES| VAL_SP|VAL_SP_FED|VAL_SP_GES|VAL_TOT|VAL_TRANSP|VAL_UCICI|VAL_UTI|VINCPREV|\n",
            "+--------+--------------------+-------+------+--------+--------------+--------+---------+---------+-----+-------+--------------+--------+---------+-------+----------+----------+-------+--------+--------+--------+--------+--------+--------+--------+--------+--------+----------+----------+---------+---------+--------+--------+-----+-----+-------+------+------+----------+---------------+---------+---------+---------+--------+-----+-----+--------+--------+------------+------+---------+---------+--------+-----+---------+---------+--------+--------+--------+-------+----------+--------+-------------+----------+----------+----------+--------+-----+--------------------+-------+---------+--------+----+----------------+---------+--------+--------+--------+--------+--------+--------+--------+--------+--------+------+-------+----------+----------+----------+----------+----------+----------+----------+----------+---------+----------+--------+----------+------+--------+----------+----------+-------+----------+----------+-------+----------+----------+-------+----------+---------+-------+--------+\n",
            "|    2023|                    |     01|000000|46430000|              |    0000|     0000|         |  000|7319770|13811476000154|      12|        4|     02|        00|        00|       |        |        |        |        |        |        |        |        |        |      K800|      0000|        0|        2|20230117|20230119|   01| 0000|       |    06|     2|     00000|000000000000000|         |        0|        1|       0|   41|    1|       0|        |000000000000|     0|       00|       00|      01|    0|   290520|   291170|     010|19810201|      00|   1244|         0|        |2923101182970|0407030034|0407030034|         2|      01| 0000|HE29000001N202301...|      0|    56320|     000|   1|                |        0|       0|       0|       0|       0|       0|       0|       0|       0|       0|290000| 191.75|         0|         0|         0|         0|         0|         0|         0|         0|      0.0|       0.0|     0.0|       0.0|   0.0|     0.0|       0.0|       0.0| 751.13|       0.0|       0.0| 245.99|       0.0|       0.0| 997.12|       0.0|      0.0|    0.0|       0|\n",
            "|    2023|                    |     01|000000|46400000|              |    0000|     0000|         |  000|7319770|13811476000154|      12|        4|     02|        00|        00|       |    W199|        |        |        |        |        |        |        |        |      S525|      0000|        0|        1|20230128|20230129|   01| 0000|       |    06|     2|     00000|000000000000000|         |        0|        1|       0|   75|    1|       0|        |000000000000|     0|       00|       00|      01|    0|   290520|   290520|     010|19470606|      00|   1244|         0|        |2923101239212|0408020245|0408020245|         1|      03| 0000|HE29000001N202301...|      0|    56426|     000|   3|                |        0|       2|       0|       0|       0|       0|       0|       0|       0|       0|290000|  20.62|         0|         0|         0|         0|         0|         0|         0|         0|      0.0|       0.0|     0.0|       0.0|   0.0|     0.0|       0.0|       0.0|  51.34|       0.0|       0.0|   55.9|       0.0|       0.0| 107.24|       0.0|      0.0|    0.0|       0|\n",
            "|    2023|                    |     01|000000|47640000|              |    0000|     0000|         |  000|7319770|13811476000154|      12|        4|     02|        00|        00|       |        |        |        |        |        |        |        |        |        |      K409|      0000|        0|        1|20230128|20230129|   01| 0000|       |    06|     2|     00000|000000000000000|         |        0|        1|       0|   59|    1|       0|        |000000000000|     0|       00|       00|      01|    0|   290520|   292810|     010|19631218|      00|   1244|         0|        |2923101239223|0407040102|0407040102|         1|      03| 0000|HE29000001N202301...|      0|    56427|     000|   1|                |        0|       0|       0|       0|       0|       0|       0|       0|       0|       0|290000| 122.68|         0|         0|         0|         0|         0|         0|         0|         0|      0.0|       0.0|     0.0|       0.0|   0.0|     0.0|       0.0|       0.0| 427.52|       0.0|       0.0| 210.45|       0.0|       0.0| 637.97|       0.0|      0.0|    0.0|       0|\n",
            "|    2023|                    |     01|000000|47640000|              |    0000|     0000|         |  000|7319770|13811476000154|      12|        4|     02|        00|        00|       |        |        |        |        |        |        |        |        |        |      K409|      0000|        0|        1|20230128|20230129|   01| 0000|       |    06|     2|     00000|000000000000000|         |        0|        1|       0|   62|    1|       0|        |000000000000|     0|       00|       00|      01|    0|   290520|   292810|     010|19600403|      00|   1244|         0|        |2923101239234|0407040102|0407040102|         1|      03| 0000|HE29000001N202301...|      0|    56428|     000|   1|                |        0|       0|       0|       0|       0|       0|       0|       0|       0|       0|290000| 122.68|         0|         0|         0|         0|         0|         0|         0|         0|      0.0|       0.0|     0.0|       0.0|   0.0|     0.0|       0.0|       0.0| 427.52|       0.0|       0.0| 210.45|       0.0|       0.0| 637.97|       0.0|      0.0|    0.0|       0|\n",
            "|    2023|                    |     01|000000|47640000|              |    0000|     0000|         |  000|7319770|13811476000154|      12|        4|     02|        00|        00|       |        |        |        |        |        |        |        |        |        |      K808|      0000|        0|        1|20230128|20230129|   01| 0000|       |    06|     2|     00000|000000000000000|         |        0|        1|       0|   57|    1|       0|        |000000000000|     0|       00|       00|      01|    0|   290520|   292810|     010|19650615|      00|   1244|         0|        |2923101239245|0407030034|0407030034|         1|      03| 0000|HE29000001N202301...|      0|    56429|     000|   1|                |        0|       0|       0|       0|       0|       0|       0|       0|       0|       0|290000| 190.85|         0|         0|         0|         0|         0|         0|         0|         0|      0.0|       0.0|     0.0|       0.0|   0.0|     0.0|       0.0|       0.0| 746.46|       0.0|       0.0| 245.99|       0.0|       0.0| 992.45|       0.0|      0.0|    0.0|       0|\n",
            "|    2023|                    |     01|000000|71825300|              |    0000|     0000|         |  000|7319770|13811476000154|      12|        4|     02|        00|        00|       |        |        |        |        |        |        |        |        |        |      K808|      0000|        0|        1|20230128|20230129|   01| 0000|       |    06|     2|     00000|000000000000000|         |        0|        1|       0|   27|    1|       0|        |000000000000|     0|       00|       00|      01|    0|   290520|   530010|     010|19950320|      00|   1244|         0|        |2923101239256|0407030034|0407030034|         1|      03| 0000|HE29000001N202301...|      0|    56430|     000|   3|                |        0|       0|       0|       0|       0|       0|       0|       0|       0|       0|290000| 190.85|         0|         0|         0|         0|         0|         0|         0|         0|      0.0|       0.0|     0.0|       0.0|   0.0|     0.0|       0.0|       0.0| 746.46|       0.0|       0.0| 245.99|       0.0|       0.0| 992.45|       0.0|      0.0|    0.0|       0|\n",
            "|    2023|                    |     01|000000|47640000|              |    0000|     0000|         |  000|7319770|13811476000154|      12|        4|     02|        00|        00|       |        |        |        |        |        |        |        |        |        |      K409|      0000|        0|        1|20230126|20230127|   01| 0000|       |    06|     2|     00000|000000000000000|         |        0|        1|       0|   31|    1|       0|        |000000000000|     0|       00|       00|      01|    0|   290520|   292810|     010|19910531|      00|   1244|         0|        |2923101239267|0407040102|0407040102|         1|      03| 0000|HE29000001N202301...|      0|    56431|     000|   1|                |        0|       0|       0|       0|       0|       0|       0|       0|       0|       0|290000| 122.68|         0|         0|         0|         0|         0|         0|         0|         0|      0.0|       0.0|     0.0|       0.0|   0.0|     0.0|       0.0|       0.0| 427.52|       0.0|       0.0| 210.45|       0.0|       0.0| 637.97|       0.0|      0.0|    0.0|       0|\n",
            "|    2023|                    |     01|000000|46430000|              |    0000|     0000|         |  000|7319770|13811476000154|      12|        4|     02|        00|        00|       |        |        |        |        |        |        |        |        |        |      K818|      0000|        0|        1|20230127|20230128|   01| 0000|       |    06|     2|     00000|000000000000000|         |        0|        1|       0|   33|    1|       0|        |000000000000|     0|       00|       00|      01|    0|   290520|   291170|     010|19890228|      00|   1244|         0|        |2923101239278|0407030034|0407030034|         1|      03| 0000|HE29000001N202301...|      0|    56432|     000|   1|                |        0|       0|       0|       0|       0|       0|       0|       0|       0|       0|290000| 190.85|         0|         0|         0|         0|         0|         0|         0|         0|      0.0|       0.0|     0.0|       0.0|   0.0|     0.0|       0.0|       0.0| 746.46|       0.0|       0.0| 245.99|       0.0|       0.0| 992.45|       0.0|      0.0|    0.0|       0|\n",
            "|    2023|                    |     02|000000|46400000|              |    0000|     0000|         |  000|7319770|13811476000154|      12|        4|     02|        00|        00|       |        |        |        |        |        |        |        |        |        |      F100|      0000|        0|        3|20230116|20230119|   03| 0000|       |    06|     2|     00000|000000000000000|         |        0|        1|       0|   46|    1|       0|        |000000000000|     0|       00|       75|      01|    0|   290520|   290520|     010|19760709|      00|   1244|         0|        |2923101196477|0308020030|0308020030|         2|      03| 0000|HE29000001N202301...|      0|    56538|     000|   1|                |        0|       0|       0|       0|       0|       0|       0|       0|       0|       0|290000|  257.1|         0|         0|         0|         0|         0|         0|         0|         2|      0.0|       0.0|     0.0|       0.0|   0.0|     0.0|       0.0|       0.0|1130.33|       0.0|       0.0| 206.62|       0.0|       0.0|1336.95|       0.0|      0.0| 1200.0|       0|\n",
            "|    2023|                    |     02|000000|45290000|              |    0000|     0000|         |  000|7319770|13811476000154|      51|        4|     02|        00|        00|       |        |        |        |        |        |        |        |        |        |      E102|      0000|        0|       10|20230121|20230131|   03| 0000|       |    06|     2|     00000|000000000000000|         |        0|        1|       0|   69|    1|       0|        |000000000000|     0|       00|       75|      01|    0|   290520|   291230|     010|19531210|      00|   1244|         0|        |2923101196499|0303030038|0303030038|         6|      03| 0000|HE29000001N202301...|      0|    56539|     000|   3|                |        0|       0|       0|       0|       0|       0|       0|       0|       0|       0|290000| 675.52|         0|         0|         0|         0|         0|         0|         0|         5|      0.0|       0.0|     0.0|       0.0|   0.0|     0.0|       0.0|       0.0|3012.71|       0.0|       0.0| 500.01|       0.0|       0.0|3512.72|       0.0|      0.0| 3000.0|       0|\n",
            "|    2023|                    |     02|000000|46400000|              |    0000|     0000|         |  000|7319770|13811476000154|      42|        4|     02|        00|        00|       |    V290|        |        |        |        |        |        |        |        |      S068|      0000|        0|       10|20230118|20230128|   03| 0000|       |    06|     2|     00000|000000000000000|         |        0|        1|       0|   37|    1|       0|        |000000000000|     0|       00|       75|      01|    1|   290520|   290520|     010|19850818|      00|   1244|         0|        |2923101197731|0303040084|0303040106|         0|      03| 0000|HE29000001N202301...|      0|    56540|     000|   1|                |        0|       2|       0|       0|       0|       0|       0|       0|       0|       0|290000|1341.83|         0|         0|         0|         0|         0|         0|         0|        11|      0.0|       0.0|     0.0|       0.0|   0.0|     0.0|       0.0|       0.0| 5911.2|       0.0|       0.0|1066.33|       0.0|       0.0|6977.53|       0.0|      0.0| 6600.0|       0|\n",
            "|    2023|                    |     02|000000|46310000|              |    0000|     0000|         |  000|7319770|13811476000154|      12|        4|     02|        00|        00|       |        |        |        |        |        |        |        |        |        |      K805|      0000|        0|        7|20230102|20230109|   03| 0000|       |    06|     2|     00000|000000000000000|         |        0|        1|       0|   77|    1|       0|        |000000000000|     0|       00|       00|      01|    0|   290520|   291740|     010|19450830|      00|   1244|         0|        |2923101197742|0308040015|0308040015|         7|      03| 0000|HE29000001N202301...|      0|    56541|     000|   3|                |        0|       0|       0|       0|       0|       0|       0|       0|       0|       0|290000|  91.65|         0|         0|         0|         0|         0|         0|         0|         0|      0.0|       0.0|     0.0|       0.0|   0.0|     0.0|       0.0|       0.0| 447.38|       0.0|       0.0|  29.21|       0.0|       0.0| 476.59|       0.0|      0.0|    0.0|       0|\n",
            "|    2023|                    |     02|000000|46300000|              |    0000|     0000|         |  000|7319770|13811476000154|      41|        4|     02|        00|        00|       |        |        |        |        |        |        |        |        |        |      J960|      0000|        0|        8|20230113|20230121|   03| 0000|       |    06|     2|     00000|000000000000000|         |        0|        1|       0|   86|    1|       0|        |000000000000|     0|       00|       75|      01|    1|   290520|   290500|     010|19360901|      00|   1244|         0|        |2923101197753|0303140135|0303140135|         0|      03| 0000|HE29000001N202301...|      0|    56542|     000|   1|                |        0|       0|       0|       0|       0|       0|       0|       0|       0|       0|290000|1130.93|         0|         0|         0|         0|         0|         0|         0|         9|      0.0|       0.0|     0.0|       0.0|   0.0|     0.0|       0.0|       0.0|5041.47|       0.0|       0.0|  839.4|       0.0|       0.0|5880.87|       0.0|      0.0| 5400.0|       0|\n",
            "|    2023|                    |     02|000000|46205000|              |    0000|     0000|         |  000|7319770|13811476000154|      31|        4|     02|        00|        00|       |        |        |        |        |        |        |        |        |        |      N390|      0000|        0|       11|20230103|20230114|   03| 0000|       |    06|     2|     00000|000000000000000|         |        0|        1|       0|   70|    1|       0|        |000000000000|     0|       00|       75|      01|    0|   290520|   291165|     010|19521019|      00|   1244|         0|        |2923101197797|0303150050|0303150050|         5|      03| 0000|HE29000001N202301...|      0|    56543|     000|   1|                |        0|       0|       0|       0|       0|       0|       0|       0|       0|       0|290000| 849.74|         0|         0|         0|         0|         0|         0|         0|         7|      0.0|       0.0|     0.0|       0.0|   0.0|     0.0|       0.0|       0.0| 3758.0|       0.0|       0.0| 660.68|       0.0|       0.0|4418.68|       0.0|      0.0| 4200.0|       0|\n",
            "|    2023|                    |     02|000000|46140000|              |    0000|     0000|         |  000|7319770|13811476000154|      51|        4|     02|        00|        00|       |        |        |        |        |        |        |        |        |        |      G009|      0000|        0|       14|20230117|20230131|   03| 0000|       |    06|     2|     00000|000000000000000|         |        0|        1|       0|   50|    1|       0|        |000000000000|     0|       00|       75|      01|    0|   290520|   291950|     010|19721103|      00|   1244|         0|        |2923101198292|0303010037|0303010037|         0|      03| 0000|HE29000001N202301...|      0|    56544|     000|   1|                |        0|       0|       0|       0|       0|       0|       0|       0|       0|       0|290000| 1781.9|         0|         0|         0|         0|         0|         0|         0|        14|      0.0|       0.0|     0.0|       0.0|   0.0|     0.0|       0.0|       0.0|7933.69|       0.0|       0.0|1332.22|       0.0|       0.0|9265.91|       0.0|      0.0| 8400.0|       0|\n",
            "|    2023|                    |     02|000000|48630000|              |    0000|     0000|         |  000|4028155|13937131000141|      27|        4|     02|        00|        00|       |        |        |        |        |        |        |        |        |        |      K750|      0000|        0|        7|20220916|20220923|   01| 0000|       |    06|     2|     00000|000017512638515|         |        1|        1|       0|   15|    1|       0|        |000000000000|     0|       00|       75|      01|    0|   291840|   292710|     010|20070709|      00|   1023|         0|        |2922108733775|0415010012|0415010012|         0|      03| 0000|HE29000001N202301...|      0|    56650|     000|   3|                |        0|       0|       0|       0|       0|       0|       0|       0|       0|       0|290000|1262.09|         0|         0|         0|         0|         0|         0|         0|         8|      0.0|       0.0|     0.0|       0.0|   0.0|     0.0|       0.0|       0.0|5259.84|       0.0|       0.0|1303.04|       0.0|       0.0|6562.88|       0.0|      0.0| 4800.0|       0|\n",
            "|    2023|                    |     02|000000|47300000|              |    0000|     0000|         |  000|4028155|13937131000141|      12|        4|     02|        00|        00|       |        |        |        |        |        |        |        |        |        |       J86|      0000|        0|       10|20221007|20221017|   01| 0000|       |    06|     2|     00000|000017512638515|         |        1|        1|       0|   52|    1|       0|        |000000000000|     0|       00|       00|      01|    0|   291840|   290720|     010|19700625|      00|   1023|         0|        |2922108733929|0415010012|0415010012|        10|      03| 0000|HE29000001N202301...|      0|    56652|     000|   1|                |        0|       0|       0|       0|       0|       0|       0|       0|       0|       0|290000| 454.46|         0|         0|         0|         0|         0|         0|         0|         0|      0.0|       0.0|     0.0|       0.0|   0.0|     0.0|       0.0|       0.0|1445.55|       0.0|       0.0| 917.68|       0.0|       0.0|2363.23|       0.0|      0.0|    0.0|       0|\n",
            "|    2023|                    |     02|000000|48900340|              |    0000|     0000|         |  000|4028155|13937131000141|      27|        4|     02|        00|        00|       |    X199|        |        |        |        |        |        |        |        |      T302|      0000|        0|       11|20221007|20221018|   01| 0000|       |    06|     2|     00000|000017512638515|         |        1|        1|       0|   43|    1|       0|        |000000000000|     0|       00|       00|      01|    0|   291840|   291840|     010|19781210|      00|   1023|         0|        |2922108733984|0413010082|0413010082|        12|      03| 0000|HE29000001N202301...|      0|    56653|     000|   1|                |        0|       2|       0|       0|       0|       0|       0|       0|       0|       0|290000| 134.98|         0|         0|         0|         0|         0|         0|         0|         0|      0.0|       0.0|     0.0|       0.0|   0.0|     0.0|       0.0|       0.0| 456.52|       0.0|       0.0| 245.42|       0.0|       0.0| 701.94|       0.0|      0.0|    0.0|       0|\n",
            "|    2023|                    |     02|000000|48900340|              |    0000|     0000|         |  000|4028155|13937131000141|      12|        4|     03|        00|        00|       |    X199|        |        |        |        |        |        |        |        |      T349|      0000|        0|        6|20221018|20221024|   01| 0000|       |    06|     2|     00000|000017512638515|         |        1|        1|       0|   43|    1|       0|        |000000000000|     0|       00|       00|      01|    0|   291840|   291840|     010|19781210|      00|   1023|         0|        |2922108734006|0413010066|0413010066|         6|      03| 0000|HE29000001N202301...|      0|    56654|     000|   1|                |        0|       2|       0|       0|       0|       0|       0|       0|       0|       0|290000| 372.16|         0|         0|         0|         0|         0|         0|         0|         0|      0.0|       0.0|     0.0|       0.0|   0.0|     0.0|       0.0|       0.0|1197.53|       0.0|       0.0| 737.74|       0.0|       0.0|1935.27|       0.0|      0.0|    0.0|       0|\n",
            "|    2023|UNIDADE EM PROCES...|     02|000000|48110000|13937131001890|    0000|     0000|         |  000|0004081|13937131000141|      12|        2|     02|        00|        00|       |        |        |        |        |        |        |        |        |        |      P925|      0000|        3|        3|20221107|20221110|   07| 0000|       |    06|     2|     00134|000017512638515|         |        1|        1|       0|    2|    1|       0|        |000000000000|     0|       00|       00|      01|    0|   292740|   290750|     010|20221105|      00|   1023|         0|        |2922108972937|0303160039|0303160039|         3|      99| 0000|HE29000001N202301...|      0|    55532|     000|   1|PACIENTE SEM CNS|        0|       0|       0|       0|       0|       0|       0|       0|       0|       0|290000|   55.1|         0|         0|         0|         0|         0|         0|         0|         0|      0.0|       0.0|     0.0|       0.0|   0.0|     0.0|       0.0|       0.0| 247.75|       0.0|       0.0|  38.79|       0.0|       0.0| 286.54|       0.0|      0.0|    0.0|       0|\n",
            "+--------+--------------------+-------+------+--------+--------------+--------+---------+---------+-----+-------+--------------+--------+---------+-------+----------+----------+-------+--------+--------+--------+--------+--------+--------+--------+--------+--------+----------+----------+---------+---------+--------+--------+-----+-----+-------+------+------+----------+---------------+---------+---------+---------+--------+-----+-----+--------+--------+------------+------+---------+---------+--------+-----+---------+---------+--------+--------+--------+-------+----------+--------+-------------+----------+----------+----------+--------+-----+--------------------+-------+---------+--------+----+----------------+---------+--------+--------+--------+--------+--------+--------+--------+--------+--------+------+-------+----------+----------+----------+----------+----------+----------+----------+----------+---------+----------+--------+----------+------+--------+----------+----------+-------+----------+----------+-------+----------+----------+-------+----------+---------+-------+--------+\n",
            "only showing top 20 rows\n",
            "\n"
          ]
        }
      ]
    },
    {
      "cell_type": "code",
      "source": [
        "from google.colab import auth\n",
        "auth.authenticate_user()\n",
        "\n",
        "\n",
        "# Caminho para salvar o arquivo CSV no Google Cloud Storage\n",
        "csv_output_path = \"gs://tabsus/tratado/RDBA2301.csv\"\n",
        "\n",
        "# Salvar o DataFrame Spark como um arquivo CSV no Google Cloud Storage\n",
        "df.write.format(\"csv\").option(\"header\", \"true\").save(csv_output_path)\n",
        "\n",
        "print(\"Arquivo CSV salvo com sucesso em:\", csv_output_path)"
      ],
      "metadata": {
        "colab": {
          "base_uri": "https://localhost:8080/",
          "height": 966
        },
        "id": "x9r2cZ9VoWKN",
        "outputId": "1c3f79b6-a246-48b8-c0b3-0f66be045652"
      },
      "execution_count": 77,
      "outputs": [
        {
          "output_type": "error",
          "ename": "Py4JJavaError",
          "evalue": "An error occurred while calling o108.save.\n: org.apache.hadoop.fs.UnsupportedFileSystemException: No FileSystem for scheme \"gs\"\n\tat org.apache.hadoop.fs.FileSystem.getFileSystemClass(FileSystem.java:3443)\n\tat org.apache.hadoop.fs.FileSystem.createFileSystem(FileSystem.java:3466)\n\tat org.apache.hadoop.fs.FileSystem.access$300(FileSystem.java:174)\n\tat org.apache.hadoop.fs.FileSystem$Cache.getInternal(FileSystem.java:3574)\n\tat org.apache.hadoop.fs.FileSystem$Cache.get(FileSystem.java:3521)\n\tat org.apache.hadoop.fs.FileSystem.get(FileSystem.java:540)\n\tat org.apache.hadoop.fs.Path.getFileSystem(Path.java:365)\n\tat org.apache.spark.sql.execution.datasources.DataSource.planForWritingFileFormat(DataSource.scala:454)\n\tat org.apache.spark.sql.execution.datasources.DataSource.planForWriting(DataSource.scala:530)\n\tat org.apache.spark.sql.DataFrameWriter.saveToV1Source(DataFrameWriter.scala:388)\n\tat org.apache.spark.sql.DataFrameWriter.saveInternal(DataFrameWriter.scala:361)\n\tat org.apache.spark.sql.DataFrameWriter.save(DataFrameWriter.scala:240)\n\tat java.base/jdk.internal.reflect.NativeMethodAccessorImpl.invoke0(Native Method)\n\tat java.base/jdk.internal.reflect.NativeMethodAccessorImpl.invoke(NativeMethodAccessorImpl.java:62)\n\tat java.base/jdk.internal.reflect.DelegatingMethodAccessorImpl.invoke(DelegatingMethodAccessorImpl.java:43)\n\tat java.base/java.lang.reflect.Method.invoke(Method.java:566)\n\tat py4j.reflection.MethodInvoker.invoke(MethodInvoker.java:244)\n\tat py4j.reflection.ReflectionEngine.invoke(ReflectionEngine.java:374)\n\tat py4j.Gateway.invoke(Gateway.java:282)\n\tat py4j.commands.AbstractCommand.invokeMethod(AbstractCommand.java:132)\n\tat py4j.commands.CallCommand.execute(CallCommand.java:79)\n\tat py4j.ClientServerConnection.waitForCommands(ClientServerConnection.java:182)\n\tat py4j.ClientServerConnection.run(ClientServerConnection.java:106)\n\tat java.base/java.lang.Thread.run(Thread.java:829)\n",
          "traceback": [
            "\u001b[0;31m---------------------------------------------------------------------------\u001b[0m",
            "\u001b[0;31mPy4JJavaError\u001b[0m                             Traceback (most recent call last)",
            "\u001b[0;32m<ipython-input-77-28dba7c4ea62>\u001b[0m in \u001b[0;36m<cell line: 9>\u001b[0;34m()\u001b[0m\n\u001b[1;32m      7\u001b[0m \u001b[0;34m\u001b[0m\u001b[0m\n\u001b[1;32m      8\u001b[0m \u001b[0;31m# Salvar o DataFrame Spark como um arquivo CSV no Google Cloud Storage\u001b[0m\u001b[0;34m\u001b[0m\u001b[0;34m\u001b[0m\u001b[0m\n\u001b[0;32m----> 9\u001b[0;31m \u001b[0mdf\u001b[0m\u001b[0;34m.\u001b[0m\u001b[0mwrite\u001b[0m\u001b[0;34m.\u001b[0m\u001b[0mformat\u001b[0m\u001b[0;34m(\u001b[0m\u001b[0;34m\"csv\"\u001b[0m\u001b[0;34m)\u001b[0m\u001b[0;34m.\u001b[0m\u001b[0moption\u001b[0m\u001b[0;34m(\u001b[0m\u001b[0;34m\"header\"\u001b[0m\u001b[0;34m,\u001b[0m \u001b[0;34m\"true\"\u001b[0m\u001b[0;34m)\u001b[0m\u001b[0;34m.\u001b[0m\u001b[0msave\u001b[0m\u001b[0;34m(\u001b[0m\u001b[0mcsv_output_path\u001b[0m\u001b[0;34m)\u001b[0m\u001b[0;34m\u001b[0m\u001b[0;34m\u001b[0m\u001b[0m\n\u001b[0m\u001b[1;32m     10\u001b[0m \u001b[0;34m\u001b[0m\u001b[0m\n\u001b[1;32m     11\u001b[0m \u001b[0mprint\u001b[0m\u001b[0;34m(\u001b[0m\u001b[0;34m\"Arquivo CSV salvo com sucesso em:\"\u001b[0m\u001b[0;34m,\u001b[0m \u001b[0mcsv_output_path\u001b[0m\u001b[0;34m)\u001b[0m\u001b[0;34m\u001b[0m\u001b[0;34m\u001b[0m\u001b[0m\n",
            "\u001b[0;32m/usr/local/lib/python3.10/dist-packages/pyspark/sql/readwriter.py\u001b[0m in \u001b[0;36msave\u001b[0;34m(self, path, format, mode, partitionBy, **options)\u001b[0m\n\u001b[1;32m   1461\u001b[0m             \u001b[0mself\u001b[0m\u001b[0;34m.\u001b[0m\u001b[0m_jwrite\u001b[0m\u001b[0;34m.\u001b[0m\u001b[0msave\u001b[0m\u001b[0;34m(\u001b[0m\u001b[0;34m)\u001b[0m\u001b[0;34m\u001b[0m\u001b[0;34m\u001b[0m\u001b[0m\n\u001b[1;32m   1462\u001b[0m         \u001b[0;32melse\u001b[0m\u001b[0;34m:\u001b[0m\u001b[0;34m\u001b[0m\u001b[0;34m\u001b[0m\u001b[0m\n\u001b[0;32m-> 1463\u001b[0;31m             \u001b[0mself\u001b[0m\u001b[0;34m.\u001b[0m\u001b[0m_jwrite\u001b[0m\u001b[0;34m.\u001b[0m\u001b[0msave\u001b[0m\u001b[0;34m(\u001b[0m\u001b[0mpath\u001b[0m\u001b[0;34m)\u001b[0m\u001b[0;34m\u001b[0m\u001b[0;34m\u001b[0m\u001b[0m\n\u001b[0m\u001b[1;32m   1464\u001b[0m \u001b[0;34m\u001b[0m\u001b[0m\n\u001b[1;32m   1465\u001b[0m     \u001b[0;32mdef\u001b[0m \u001b[0minsertInto\u001b[0m\u001b[0;34m(\u001b[0m\u001b[0mself\u001b[0m\u001b[0;34m,\u001b[0m \u001b[0mtableName\u001b[0m\u001b[0;34m:\u001b[0m \u001b[0mstr\u001b[0m\u001b[0;34m,\u001b[0m \u001b[0moverwrite\u001b[0m\u001b[0;34m:\u001b[0m \u001b[0mOptional\u001b[0m\u001b[0;34m[\u001b[0m\u001b[0mbool\u001b[0m\u001b[0;34m]\u001b[0m \u001b[0;34m=\u001b[0m \u001b[0;32mNone\u001b[0m\u001b[0;34m)\u001b[0m \u001b[0;34m->\u001b[0m \u001b[0;32mNone\u001b[0m\u001b[0;34m:\u001b[0m\u001b[0;34m\u001b[0m\u001b[0;34m\u001b[0m\u001b[0m\n",
            "\u001b[0;32m/usr/local/lib/python3.10/dist-packages/py4j/java_gateway.py\u001b[0m in \u001b[0;36m__call__\u001b[0;34m(self, *args)\u001b[0m\n\u001b[1;32m   1320\u001b[0m \u001b[0;34m\u001b[0m\u001b[0m\n\u001b[1;32m   1321\u001b[0m         \u001b[0manswer\u001b[0m \u001b[0;34m=\u001b[0m \u001b[0mself\u001b[0m\u001b[0;34m.\u001b[0m\u001b[0mgateway_client\u001b[0m\u001b[0;34m.\u001b[0m\u001b[0msend_command\u001b[0m\u001b[0;34m(\u001b[0m\u001b[0mcommand\u001b[0m\u001b[0;34m)\u001b[0m\u001b[0;34m\u001b[0m\u001b[0;34m\u001b[0m\u001b[0m\n\u001b[0;32m-> 1322\u001b[0;31m         return_value = get_return_value(\n\u001b[0m\u001b[1;32m   1323\u001b[0m             answer, self.gateway_client, self.target_id, self.name)\n\u001b[1;32m   1324\u001b[0m \u001b[0;34m\u001b[0m\u001b[0m\n",
            "\u001b[0;32m/usr/local/lib/python3.10/dist-packages/pyspark/errors/exceptions/captured.py\u001b[0m in \u001b[0;36mdeco\u001b[0;34m(*a, **kw)\u001b[0m\n\u001b[1;32m    177\u001b[0m     \u001b[0;32mdef\u001b[0m \u001b[0mdeco\u001b[0m\u001b[0;34m(\u001b[0m\u001b[0;34m*\u001b[0m\u001b[0ma\u001b[0m\u001b[0;34m:\u001b[0m \u001b[0mAny\u001b[0m\u001b[0;34m,\u001b[0m \u001b[0;34m**\u001b[0m\u001b[0mkw\u001b[0m\u001b[0;34m:\u001b[0m \u001b[0mAny\u001b[0m\u001b[0;34m)\u001b[0m \u001b[0;34m->\u001b[0m \u001b[0mAny\u001b[0m\u001b[0;34m:\u001b[0m\u001b[0;34m\u001b[0m\u001b[0;34m\u001b[0m\u001b[0m\n\u001b[1;32m    178\u001b[0m         \u001b[0;32mtry\u001b[0m\u001b[0;34m:\u001b[0m\u001b[0;34m\u001b[0m\u001b[0;34m\u001b[0m\u001b[0m\n\u001b[0;32m--> 179\u001b[0;31m             \u001b[0;32mreturn\u001b[0m \u001b[0mf\u001b[0m\u001b[0;34m(\u001b[0m\u001b[0;34m*\u001b[0m\u001b[0ma\u001b[0m\u001b[0;34m,\u001b[0m \u001b[0;34m**\u001b[0m\u001b[0mkw\u001b[0m\u001b[0;34m)\u001b[0m\u001b[0;34m\u001b[0m\u001b[0;34m\u001b[0m\u001b[0m\n\u001b[0m\u001b[1;32m    180\u001b[0m         \u001b[0;32mexcept\u001b[0m \u001b[0mPy4JJavaError\u001b[0m \u001b[0;32mas\u001b[0m \u001b[0me\u001b[0m\u001b[0;34m:\u001b[0m\u001b[0;34m\u001b[0m\u001b[0;34m\u001b[0m\u001b[0m\n\u001b[1;32m    181\u001b[0m             \u001b[0mconverted\u001b[0m \u001b[0;34m=\u001b[0m \u001b[0mconvert_exception\u001b[0m\u001b[0;34m(\u001b[0m\u001b[0me\u001b[0m\u001b[0;34m.\u001b[0m\u001b[0mjava_exception\u001b[0m\u001b[0;34m)\u001b[0m\u001b[0;34m\u001b[0m\u001b[0;34m\u001b[0m\u001b[0m\n",
            "\u001b[0;32m/usr/local/lib/python3.10/dist-packages/py4j/protocol.py\u001b[0m in \u001b[0;36mget_return_value\u001b[0;34m(answer, gateway_client, target_id, name)\u001b[0m\n\u001b[1;32m    324\u001b[0m             \u001b[0mvalue\u001b[0m \u001b[0;34m=\u001b[0m \u001b[0mOUTPUT_CONVERTER\u001b[0m\u001b[0;34m[\u001b[0m\u001b[0mtype\u001b[0m\u001b[0;34m]\u001b[0m\u001b[0;34m(\u001b[0m\u001b[0manswer\u001b[0m\u001b[0;34m[\u001b[0m\u001b[0;36m2\u001b[0m\u001b[0;34m:\u001b[0m\u001b[0;34m]\u001b[0m\u001b[0;34m,\u001b[0m \u001b[0mgateway_client\u001b[0m\u001b[0;34m)\u001b[0m\u001b[0;34m\u001b[0m\u001b[0;34m\u001b[0m\u001b[0m\n\u001b[1;32m    325\u001b[0m             \u001b[0;32mif\u001b[0m \u001b[0manswer\u001b[0m\u001b[0;34m[\u001b[0m\u001b[0;36m1\u001b[0m\u001b[0;34m]\u001b[0m \u001b[0;34m==\u001b[0m \u001b[0mREFERENCE_TYPE\u001b[0m\u001b[0;34m:\u001b[0m\u001b[0;34m\u001b[0m\u001b[0;34m\u001b[0m\u001b[0m\n\u001b[0;32m--> 326\u001b[0;31m                 raise Py4JJavaError(\n\u001b[0m\u001b[1;32m    327\u001b[0m                     \u001b[0;34m\"An error occurred while calling {0}{1}{2}.\\n\"\u001b[0m\u001b[0;34m.\u001b[0m\u001b[0;34m\u001b[0m\u001b[0;34m\u001b[0m\u001b[0m\n\u001b[1;32m    328\u001b[0m                     format(target_id, \".\", name), value)\n",
            "\u001b[0;31mPy4JJavaError\u001b[0m: An error occurred while calling o108.save.\n: org.apache.hadoop.fs.UnsupportedFileSystemException: No FileSystem for scheme \"gs\"\n\tat org.apache.hadoop.fs.FileSystem.getFileSystemClass(FileSystem.java:3443)\n\tat org.apache.hadoop.fs.FileSystem.createFileSystem(FileSystem.java:3466)\n\tat org.apache.hadoop.fs.FileSystem.access$300(FileSystem.java:174)\n\tat org.apache.hadoop.fs.FileSystem$Cache.getInternal(FileSystem.java:3574)\n\tat org.apache.hadoop.fs.FileSystem$Cache.get(FileSystem.java:3521)\n\tat org.apache.hadoop.fs.FileSystem.get(FileSystem.java:540)\n\tat org.apache.hadoop.fs.Path.getFileSystem(Path.java:365)\n\tat org.apache.spark.sql.execution.datasources.DataSource.planForWritingFileFormat(DataSource.scala:454)\n\tat org.apache.spark.sql.execution.datasources.DataSource.planForWriting(DataSource.scala:530)\n\tat org.apache.spark.sql.DataFrameWriter.saveToV1Source(DataFrameWriter.scala:388)\n\tat org.apache.spark.sql.DataFrameWriter.saveInternal(DataFrameWriter.scala:361)\n\tat org.apache.spark.sql.DataFrameWriter.save(DataFrameWriter.scala:240)\n\tat java.base/jdk.internal.reflect.NativeMethodAccessorImpl.invoke0(Native Method)\n\tat java.base/jdk.internal.reflect.NativeMethodAccessorImpl.invoke(NativeMethodAccessorImpl.java:62)\n\tat java.base/jdk.internal.reflect.DelegatingMethodAccessorImpl.invoke(DelegatingMethodAccessorImpl.java:43)\n\tat java.base/java.lang.reflect.Method.invoke(Method.java:566)\n\tat py4j.reflection.MethodInvoker.invoke(MethodInvoker.java:244)\n\tat py4j.reflection.ReflectionEngine.invoke(ReflectionEngine.java:374)\n\tat py4j.Gateway.invoke(Gateway.java:282)\n\tat py4j.commands.AbstractCommand.invokeMethod(AbstractCommand.java:132)\n\tat py4j.commands.CallCommand.execute(CallCommand.java:79)\n\tat py4j.ClientServerConnection.waitForCommands(ClientServerConnection.java:182)\n\tat py4j.ClientServerConnection.run(ClientServerConnection.java:106)\n\tat java.base/java.lang.Thread.run(Thread.java:829)\n"
          ]
        }
      ]
    },
    {
      "cell_type": "code",
      "source": [
        "from google.colab import auth\n",
        "auth.authenticate_user()\n",
        "\n",
        "# Coletar o DataFrame Spark para a máquina local\n",
        "df_local = df.toPandas()\n",
        "\n",
        "# Caminho para salvar o arquivo CSV localmente\n",
        "local_csv_path = \"/content/RDBA2301.csv\"\n",
        "\n",
        "# Salvar o DataFrame como um arquivo CSV localmente\n",
        "df_local.to_csv(local_csv_path, index=False)\n",
        "\n",
        "print(\"Arquivo CSV salvo localmente em:\", local_csv_path)\n",
        "\n",
        "# Transferir o arquivo CSV para o Google Cloud Storage\n",
        "from google.cloud import storage\n",
        "\n",
        "# Inicializar o cliente do Google Cloud Storage\n",
        "storage_client = storage.Client()\n",
        "\n",
        "# Especificar o caminho no Google Cloud Storage onde o arquivo CSV será salvo\n",
        "gcs_bucket_name = \"tabsus\"\n",
        "gcs_blob_name = \"tratado/RDBA2301.csv\"\n",
        "\n",
        "# Fazer upload do arquivo local para o Google Cloud Storage\n",
        "bucket = storage_client.bucket(gcs_bucket_name)\n",
        "blob = bucket.blob(gcs_blob_name)\n",
        "blob.upload_from_filename(local_csv_path)\n",
        "\n",
        "print(\"Arquivo CSV transferido com sucesso para:\", f\"gs://{gcs_bucket_name}/{gcs_blob_name}\")\n"
      ],
      "metadata": {
        "colab": {
          "base_uri": "https://localhost:8080/"
        },
        "id": "OBWWBs-UsxW0",
        "outputId": "481f95e1-2d28-472a-d602-303cb8682b61"
      },
      "execution_count": 100,
      "outputs": [
        {
          "output_type": "stream",
          "name": "stdout",
          "text": [
            "Arquivo CSV salvo localmente em: /content/RDBA2301.csv\n",
            "Arquivo CSV transferido com sucesso para: gs://tabsus/tratado/RDBA2301.csv\n"
          ]
        }
      ]
    }
  ]
}