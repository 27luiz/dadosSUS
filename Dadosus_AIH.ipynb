{
  "nbformat": 4,
  "nbformat_minor": 0,
  "metadata": {
    "colab": {
      "provenance": [],
      "authorship_tag": "ABX9TyNDVnnJuKcvBCURSe7DJPaw",
      "include_colab_link": true
    },
    "kernelspec": {
      "name": "python3",
      "display_name": "Python 3"
    },
    "language_info": {
      "name": "python"
    }
  },
  "cells": [
    {
      "cell_type": "markdown",
      "metadata": {
        "id": "view-in-github",
        "colab_type": "text"
      },
      "source": [
        "<a href=\"https://colab.research.google.com/github/27luiz/dadosSUS/blob/main/Dadosus_AIH.ipynb\" target=\"_parent\"><img src=\"https://colab.research.google.com/assets/colab-badge.svg\" alt=\"Open In Colab\"/></a>"
      ]
    },
    {
      "cell_type": "code",
      "source": [
        "from google.colab import auth\n",
        "auth.authenticate_user()\n"
      ],
      "metadata": {
        "id": "5kNkWexVN-Wu"
      },
      "execution_count": 6,
      "outputs": []
    },
    {
      "cell_type": "code",
      "source": [
        "from ftplib import FTP\n",
        "from google.cloud import storage\n",
        "import threading\n",
        "from datetime import datetime, timedelta\n",
        "\n",
        "def daterange(start_date, end_date):\n",
        "    for n in range(int((end_date - start_date).days) + 1):\n",
        "        yield start_date + timedelta(n)\n",
        "\n",
        "def download_and_upload(date, gcs_bucket_name):\n",
        "    ano = date.strftime(\"%y\")\n",
        "    mes = date.strftime(\"%m\")\n",
        "    uf = 'DF'  # Aqui você pode definir a UF desejada\n",
        "\n",
        "    ftp_url = ftp_base_url.format(uf=uf, ano=ano, mes=mes)\n",
        "    local_filename = f\"RD{uf}{ano}{mes}.dbc\"\n",
        "    gcs_blob_name = f\"bruto/RD{uf}{ano}{mes}.dbc\"\n",
        "\n",
        "    try:\n",
        "        # Download do arquivo FTP\n",
        "        download_ftp_file(ftp_url, local_filename)\n",
        "\n",
        "        # Upload do arquivo para o Google Cloud Storage\n",
        "        upload_to_gcs(local_filename, gcs_bucket_name, gcs_blob_name)\n",
        "    except Exception as e:\n",
        "        print(f\"Erro ao processar UF={uf}, Ano={ano}, Mês={mes}: {e}\")\n",
        "\n",
        "def download_ftp_file(ftp_url, local_filename):\n",
        "    ftp_server = ftp_url.split('/')[2]\n",
        "    ftp_path = \"/\".join(ftp_url.split('/')[3:])\n",
        "\n",
        "    with FTP(ftp_server) as ftp:\n",
        "        ftp.login()\n",
        "        with open(local_filename, 'wb') as f:\n",
        "            ftp.retrbinary(f'RETR {ftp_path}', f.write)\n",
        "\n",
        "def upload_to_gcs(local_filename, gcs_bucket_name, gcs_blob_name):\n",
        "    storage_client = storage.Client()\n",
        "    bucket = storage_client.bucket(gcs_bucket_name)\n",
        "    blob = bucket.blob(gcs_blob_name)\n",
        "    blob.upload_from_filename(local_filename)\n",
        "    print(f\"Arquivo enviado com sucesso para o Google Cloud Storage: {gcs_blob_name}\")\n",
        "\n",
        "# URL base do arquivo FTP\n",
        "ftp_base_url = \"ftp://ftp.datasus.gov.br/dissemin/publicos/SIHSUS/200801_/Dados/RD{uf}{ano}{mes}.dbc\"\n",
        "\n",
        "# Localização no Google Cloud Storage para onde o arquivo será carregado\n",
        "gcs_bucket_name = \"tabsus\"\n",
        "\n",
        "# Intervalo de datas\n",
        "start_date = datetime(2024, 1, 1)\n",
        "end_date = datetime(2024, 1, 1)\n",
        "\n",
        "# Lista para armazenar as threads\n",
        "threads = []\n",
        "\n",
        "# Criar e iniciar threads para cada data no intervalo\n",
        "for single_date in daterange(start_date, end_date):\n",
        "    thread = threading.Thread(target=download_and_upload, args=(single_date, gcs_bucket_name))\n",
        "    thread.start()\n",
        "    threads.append(thread)\n",
        "\n",
        "# Aguardar todas as threads terminarem\n",
        "for thread in threads:\n",
        "    thread.join()\n",
        "\n",
        "print(\"Todos os arquivos foram enviados com sucesso.\")\n"
      ],
      "metadata": {
        "colab": {
          "base_uri": "https://localhost:8080/"
        },
        "id": "F_BbzzPJfXza",
        "outputId": "a2bd5b78-94eb-4ca4-ff5e-6b813d8d5f58"
      },
      "execution_count": 8,
      "outputs": [
        {
          "output_type": "stream",
          "name": "stdout",
          "text": [
            "Arquivo enviado com sucesso para o Google Cloud Storage: bruto/RDDF2401.dbc\n",
            "Todos os arquivos foram enviados com sucesso.\n"
          ]
        }
      ]
    }
  ]
}