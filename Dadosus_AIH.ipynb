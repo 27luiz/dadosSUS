{
  "nbformat": 4,
  "nbformat_minor": 0,
  "metadata": {
    "colab": {
      "provenance": [],
      "authorship_tag": "ABX9TyOJ6Sm7g4KOkT56Snsi79YL",
      "include_colab_link": true
    },
    "kernelspec": {
      "name": "python3",
      "display_name": "Python 3"
    },
    "language_info": {
      "name": "python"
    }
  },
  "cells": [
    {
      "cell_type": "markdown",
      "metadata": {
        "id": "view-in-github",
        "colab_type": "text"
      },
      "source": [
        "<a href=\"https://colab.research.google.com/github/27luiz/dadosSUS/blob/main/Dadosus_AIH.ipynb\" target=\"_parent\"><img src=\"https://colab.research.google.com/assets/colab-badge.svg\" alt=\"Open In Colab\"/></a>"
      ]
    },
    {
      "cell_type": "code",
      "source": [
        "from google.colab import auth\n",
        "auth.authenticate_user()\n"
      ],
      "metadata": {
        "id": "5kNkWexVN-Wu"
      },
      "execution_count": 5,
      "outputs": []
    },
    {
      "cell_type": "code",
      "source": [
        "from ftplib import FTP\n",
        "from google.cloud import storage\n",
        "\n",
        "def download_ftp_file(ftp_url, local_filename):\n",
        "    ftp_server = ftp_url.split('/')[2]\n",
        "    ftp_path = \"/\".join(ftp_url.split('/')[3:])\n",
        "\n",
        "    with FTP(ftp_server) as ftp:\n",
        "        ftp.login()  # Você pode precisar fornecer credenciais de login aqui\n",
        "        with open(local_filename, 'wb') as f:\n",
        "            ftp.retrbinary(f'RETR {ftp_path}', f.write)\n",
        "\n",
        "def upload_to_gcs(local_filename, gcs_bucket_name, gcs_blob_name):\n",
        "    storage_client = storage.Client()\n",
        "    bucket = storage_client.bucket(gcs_bucket_name)\n",
        "    blob = bucket.blob(gcs_blob_name)\n",
        "    blob.upload_from_filename(local_filename)\n",
        "\n",
        "# URL base do arquivo FTP\n",
        "ftp_base_url = \"ftp://ftp.datasus.gov.br/dissemin/publicos/SIHSUS/200801_/Dados/RD{uf}{ano}{mes}.dbc\"\n",
        "\n",
        "# Localização no Google Cloud Storage para onde o arquivo será carregado\n",
        "gcs_bucket_name = \"tabsus\"\n",
        "\n",
        "# Listas de Ufs, Anos e Meses\n",
        "ufs = ['MG']\n",
        "anos = ['23']\n",
        "meses = ['01', '02', '03']\n",
        "\n",
        "# Iterar sobre todas as combinações de Ufs, Anos e Meses\n",
        "for uf in ufs:\n",
        "    for ano in anos:\n",
        "        for mes in meses:\n",
        "            # Construir a URL do FTP substituindo as partes fixas pelas variáveis\n",
        "            ftp_url = ftp_base_url.format(uf=uf, ano=ano, mes=mes)\n",
        "\n",
        "            # Construir o nome do arquivo local substituindo as partes fixas pelas variáveis\n",
        "            local_filename = f\"/tmp/RD{uf}{ano}{mes}.dbc\"\n",
        "\n",
        "            # Construir o nome do arquivo no Google Cloud Storage substituindo as partes fixas pelas variáveis\n",
        "            gcs_blob_name = f\"bruto/RD{uf}{ano}{mes}.dbc\"\n",
        "\n",
        "            # Baixe o arquivo FTP\n",
        "            download_ftp_file(ftp_url, local_filename)\n",
        "\n",
        "            # Carregue o arquivo baixado para o Google Cloud Storage\n",
        "            upload_to_gcs(local_filename, gcs_bucket_name, gcs_blob_name)\n",
        "\n",
        "            print(f\"Arquivo enviado com sucesso para o Google Cloud Storage: {gcs_blob_name}\")\n",
        "\n",
        "print(\"Todos os arquivos foram enviados com sucesso.\")"
      ],
      "metadata": {
        "colab": {
          "base_uri": "https://localhost:8080/"
        },
        "id": "0ttuS7nuQyf2",
        "outputId": "09bd9756-2258-4902-c0cf-432df89a1a85"
      },
      "execution_count": 14,
      "outputs": [
        {
          "output_type": "stream",
          "name": "stdout",
          "text": [
            "Arquivo enviado com sucesso para o Google Cloud Storage: bruto/RDMG2301.dbc\n",
            "Arquivo enviado com sucesso para o Google Cloud Storage: bruto/RDMG2302.dbc\n",
            "Arquivo enviado com sucesso para o Google Cloud Storage: bruto/RDMG2303.dbc\n",
            "Todos os arquivos foram enviados com sucesso.\n"
          ]
        }
      ]
    }
  ]
}