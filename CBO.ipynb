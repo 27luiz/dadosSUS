{
  "nbformat": 4,
  "nbformat_minor": 0,
  "metadata": {
    "colab": {
      "name": "CADHOSP",
      "cell_execution_strategy": "setup",
      "provenance": []
    },
    "kernelspec": {
      "name": "python3",
      "display_name": "Python 3"
    },
    "language_info": {
      "name": "python"
    }
  },
  "cells": [
    {
      "cell_type": "code",
      "source": [
        "import pandas as pd\n",
        "from google.cloud import storage\n",
        "from google.colab import auth\n",
        "from dbfread import DBF\n",
        "import logging\n",
        "\n",
        "def processar_arquivo_dbf(local_file_path, gcs_bucket_name, novo_nome, encoding='utf-8'):\n",
        "    # Inicializar o cliente do Google Cloud Storage\n",
        "    storage_client = storage.Client()\n",
        "\n",
        "    try:\n",
        "        # Baixar o arquivo DBF localmente\n",
        "        bucket = storage_client.bucket(gcs_bucket_name)\n",
        "        blob = bucket.blob(f\"DBF/{novo_nome}\")\n",
        "        blob.download_to_filename(local_file_path)\n",
        "\n",
        "        # Lista para armazenar os registros do DBF\n",
        "        records = []\n",
        "\n",
        "        # Ler o arquivo DBF e adicionar os registros à lista\n",
        "        with DBF(local_file_path, encoding=encoding) as table:\n",
        "            for record in table:\n",
        "                records.append(record)\n",
        "\n",
        "        # Converter a lista de registros em um DataFrame pandas\n",
        "        df = pd.DataFrame(records)\n",
        "\n",
        "        # Caminho para salvar o arquivo CSV\n",
        "        csv_file_path = f\"/tmp/{novo_nome.replace('.dbf', '.csv')}\"\n",
        "\n",
        "        # Salvar o DataFrame como um arquivo CSV\n",
        "        df.to_csv(csv_file_path, index=False)\n",
        "\n",
        "        print(f\"Arquivo CSV salvo localmente em: {csv_file_path}\")\n",
        "\n",
        "        # Upload do arquivo CSV para o Google Cloud Storage\n",
        "        gcs_blob_name = f\"tratado/dimensao/{novo_nome.replace('.dbf', '.csv')}\"\n",
        "        blob = bucket.blob(gcs_blob_name)\n",
        "        blob.upload_from_filename(csv_file_path)\n",
        "\n",
        "        print(f\"Arquivo CSV enviado com sucesso para o Google Cloud Storage: gs://{gcs_bucket_name}/{gcs_blob_name}\")\n",
        "\n",
        "    except FileNotFoundError as e:\n",
        "        logging.error(f\"O arquivo {novo_nome} não foi encontrado: {e}\")\n",
        "    except Exception as e:\n",
        "        logging.error(f\"Erro ao processar o arquivo {novo_nome}: {e}\")\n",
        "\n",
        "# Configurar o registro de logs\n",
        "logging.basicConfig(filename='processamento_dbf.log', level=logging.ERROR)\n",
        "\n",
        "# Autenticação do usuário\n",
        "auth.authenticate_user()\n",
        "\n",
        "# Lista de Ufs, Anos e Meses\n",
        "ufs = ['CBO']\n",
        "\n",
        "# Caminho do bucket do Google Cloud Storage\n",
        "gcs_bucket_name = \"tabsus\"\n",
        "\n",
        "# Renomear e processar os arquivos DBF\n",
        "for uf in ufs:\n",
        "    # Novo nome do arquivo\n",
        "    novo_nome = f\"{uf}.dbf\"\n",
        "\n",
        "    # Caminho do arquivo local\n",
        "    local_file_path = f\"/tmp/{novo_nome}\"\n",
        "\n",
        "    # Processar o arquivo DBF\n",
        "    processar_arquivo_dbf(local_file_path, gcs_bucket_name, novo_nome, encoding='latin1')  # Tente usar 'latin1' como codificação\n"
      ],
      "metadata": {
        "colab": {
          "base_uri": "https://localhost:8080/"
        },
        "id": "5-zwtfqtoFbV",
        "executionInfo": {
          "status": "ok",
          "timestamp": 1711908689120,
          "user_tz": 180,
          "elapsed": 594,
          "user": {
            "displayName": "",
            "userId": ""
          }
        },
        "outputId": "061b7f16-0ce9-44c4-824d-00adeeedeaec"
      },
      "execution_count": 8,
      "outputs": [
        {
          "output_type": "stream",
          "name": "stdout",
          "text": [
            "Arquivo CSV salvo localmente em: /tmp/CBO.csv\n",
            "Arquivo CSV enviado com sucesso para o Google Cloud Storage: gs://tabsus/tratado/dimensao/CBO.csv\n"
          ]
        }
      ]
    }
  ]
}