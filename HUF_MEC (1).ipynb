{
  "nbformat": 4,
  "nbformat_minor": 0,
  "metadata": {
    "colab": {
      "name": "HUF_MEC",
      "cell_execution_strategy": "setup",
      "provenance": []
    },
    "kernelspec": {
      "name": "python3",
      "display_name": "Python 3"
    },
    "language_info": {
      "name": "python"
    }
  },
  "cells": [
    {
      "cell_type": "code",
      "source": [
        "pip install dbfread"
      ],
      "metadata": {
        "colab": {
          "base_uri": "https://localhost:8080/"
        },
        "id": "-m2uAtyUgqjI",
        "executionInfo": {
          "status": "ok",
          "timestamp": 1711906070093,
          "user_tz": 180,
          "elapsed": 8846,
          "user": {
            "displayName": "",
            "userId": ""
          }
        },
        "outputId": "db998837-a764-495a-a6b9-55cfc363415a"
      },
      "execution_count": null,
      "outputs": [
        {
          "output_type": "stream",
          "name": "stdout",
          "text": [
            "Requirement already satisfied: dbfread in /usr/local/lib/python3.10/dist-packages (2.0.7)\n"
          ]
        }
      ]
    },
    {
      "cell_type": "code",
      "source": [
        "import pandas as pd\n",
        "from google.cloud import storage\n",
        "from google.colab import auth\n",
        "from dbfread import DBF\n",
        "import logging\n",
        "\n",
        "def processar_arquivo_dbf(local_file_path, gcs_bucket_name, novo_nome, encoding='utf-8'):\n",
        "    # Inicializar o cliente do Google Cloud Storage\n",
        "    storage_client = storage.Client()\n",
        "\n",
        "    try:\n",
        "        # Baixar o arquivo DBF localmente\n",
        "        bucket = storage_client.bucket(gcs_bucket_name)\n",
        "        blob = bucket.blob(f\"DBF/{novo_nome}\")\n",
        "        blob.download_to_filename(local_file_path)\n",
        "\n",
        "        # Lista para armazenar os registros do DBF\n",
        "        records = []\n",
        "\n",
        "        # Ler o arquivo DBF e adicionar os registros à lista\n",
        "        with DBF(local_file_path, encoding=encoding) as table:\n",
        "            for record in table:\n",
        "                records.append(record)\n",
        "\n",
        "        # Converter a lista de registros em um DataFrame pandas\n",
        "        df = pd.DataFrame(records)\n",
        "\n",
        "        # Caminho para salvar o arquivo CSV\n",
        "        csv_file_path = f\"/tmp/{novo_nome.replace('.dbf', '.csv')}\"\n",
        "\n",
        "        # Salvar o DataFrame como um arquivo CSV\n",
        "        df.to_csv(csv_file_path, index=False)\n",
        "\n",
        "        print(f\"Arquivo CSV salvo localmente em: {csv_file_path}\")\n",
        "\n",
        "        # Upload do arquivo CSV para o Google Cloud Storage\n",
        "        gcs_blob_name = f\"tratado/dimensao/{novo_nome.replace('.dbf', '.csv')}\"\n",
        "        blob = bucket.blob(gcs_blob_name)\n",
        "        blob.upload_from_filename(csv_file_path)\n",
        "\n",
        "        print(f\"Arquivo CSV enviado com sucesso para o Google Cloud Storage: gs://{gcs_bucket_name}/{gcs_blob_name}\")\n",
        "\n",
        "    except FileNotFoundError as e:\n",
        "        logging.error(f\"O arquivo {novo_nome} não foi encontrado: {e}\")\n",
        "    except Exception as e:\n",
        "        logging.error(f\"Erro ao processar o arquivo {novo_nome}: {e}\")\n",
        "\n",
        "# Configurar o registro de logs\n",
        "logging.basicConfig(filename='processamento_dbf.log', level=logging.ERROR)\n",
        "\n",
        "# Autenticação do usuário\n",
        "auth.authenticate_user()\n",
        "\n",
        "# Lista de Ufs, Anos e Meses\n",
        "ufs = ['HUF_MEC']\n",
        "\n",
        "# Caminho do bucket do Google Cloud Storage\n",
        "gcs_bucket_name = \"tabsus\"\n",
        "\n",
        "# Renomear e processar os arquivos DBF\n",
        "for uf in ufs:\n",
        "    # Novo nome do arquivo\n",
        "    novo_nome = f\"{uf}.dbf\"\n",
        "\n",
        "    # Caminho do arquivo local\n",
        "    local_file_path = f\"/tmp/{novo_nome}\"\n",
        "\n",
        "    # Processar o arquivo DBF\n",
        "    processar_arquivo_dbf(local_file_path, gcs_bucket_name, novo_nome, encoding='latin1')  # Tente usar 'latin1' como codificação\n"
      ],
      "metadata": {
        "colab": {
          "base_uri": "https://localhost:8080/"
        },
        "id": "wGEr1d_mgrVK",
        "executionInfo": {
          "status": "ok",
          "timestamp": 1711906605143,
          "user_tz": 180,
          "elapsed": 459,
          "user": {
            "displayName": "",
            "userId": ""
          }
        },
        "outputId": "a1639b2a-c616-4b85-91ab-4dbde6a5b642"
      },
      "execution_count": null,
      "outputs": [
        {
          "output_type": "stream",
          "name": "stdout",
          "text": [
            "Arquivo CSV salvo localmente em: /tmp/HUF_MEC.csv\n",
            "Arquivo CSV enviado com sucesso para o Google Cloud Storage: gs://tabsus/tratado/dimensao/HUF_MEC.csv\n"
          ]
        }
      ]
    },
    {
      "cell_type": "code",
      "source": [
        "from google.colab import auth\n",
        "from google.cloud import bigquery\n",
        "import pandas as pd\n",
        "from google.api_core.exceptions import GoogleAPIError\n",
        "from google.cloud.exceptions import NotFound\n",
        "import logging\n",
        "\n",
        "# Autenticar usuário\n",
        "auth.authenticate_user()\n",
        "\n",
        "# Inicializar cliente BigQuery\n",
        "client = bigquery.Client()\n",
        "\n",
        "# Definir informações do projeto e dataset\n",
        "project_id = 'etlgcp-416120'\n",
        "dataset_id = 'CNES'\n",
        "\n",
        "# Lista de arquivos no Cloud Storage\n",
        "ufs = ['HUF_MEC']\n",
        "\n",
        "# Lista para armazenar DataFrames de cada arquivo CSV\n",
        "dfs = []\n",
        "\n",
        "# Iterar sobre os arquivos CSV e carregar para o BigQuery\n",
        "for uf in ufs:\n",
        "    # Caminho do arquivo CSV no Cloud Storage\n",
        "    csv_file_path = f'gs://tabsus/tratado/dimensao/{uf}.csv'\n",
        "\n",
        "    try:\n",
        "        # Carregar o arquivo CSV para um DataFrame e adicionar à lista\n",
        "        df = pd.read_csv(csv_file_path)\n",
        "\n",
        "        # Converter colunas int64 para string\n",
        "        df = df.astype(str)\n",
        "\n",
        "        dfs.append(df)\n",
        "    except FileNotFoundError as e:\n",
        "        logging.error(f'O arquivo {csv_file_path} não foi encontrado: {e}')\n",
        "    except Exception as e:\n",
        "        logging.error(f'Erro ao ler o arquivo {csv_file_path}: {e}')\n",
        "\n",
        "# Concatenar todos os DataFrames em um único DataFrame\n",
        "combined_df = pd.concat(dfs, ignore_index=True)\n",
        "\n",
        "# Verificar se o DataFrame combinado não está vazio\n",
        "if not combined_df.empty:\n",
        "    # Salvar o DataFrame combinado como uma tabela no BigQuery\n",
        "    table_name = 'HUF_MEC'\n",
        "    try:\n",
        "        # Obter o esquema do DataFrame\n",
        "        schema = [bigquery.SchemaField(name, 'STRING') for name in combined_df.columns]\n",
        "\n",
        "        # Carregar a tabela com o DataFrame e o esquema\n",
        "        table_ref = client.dataset(dataset_id).table(table_name)\n",
        "        job_config = bigquery.LoadJobConfig(schema=schema)\n",
        "        client.load_table_from_dataframe(combined_df, table_ref, job_config=job_config)\n",
        "\n",
        "        print(f'Tabela {table_name} criada com sucesso no BigQuery.')\n",
        "    except GoogleAPIError as e:\n",
        "        logging.error(f'Erro ao criar tabela {table_name} no BigQuery: {e}')\n",
        "    except Exception as e:\n",
        "        logging.error(f'Ocorreu um erro inesperado ao criar tabela {table_name} no BigQuery: {e}')\n",
        "else:\n",
        "    logging.warning('O DataFrame combinado está vazio. Nenhuma tabela será criada no BigQuery.')"
      ],
      "metadata": {
        "colab": {
          "base_uri": "https://localhost:8080/"
        },
        "id": "na2NUbLTgvc6",
        "executionInfo": {
          "status": "ok",
          "timestamp": 1711906726772,
          "user_tz": 180,
          "elapsed": 1460,
          "user": {
            "displayName": "",
            "userId": ""
          }
        },
        "outputId": "3cb8aaec-a05f-41f9-f307-2a694231c2be"
      },
      "execution_count": null,
      "outputs": [
        {
          "output_type": "stream",
          "name": "stdout",
          "text": [
            "Tabela HUF_MEC criada com sucesso no BigQuery.\n"
          ]
        }
      ]
    }
  ]
}